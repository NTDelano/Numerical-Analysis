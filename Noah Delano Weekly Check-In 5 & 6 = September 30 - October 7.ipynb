{
 "cells": [
  {
   "cell_type": "markdown",
   "metadata": {},
   "source": [
    "# Noah Delano's Weekly Check-In: September 30 - October 7"
   ]
  },
  {
   "cell_type": "markdown",
   "metadata": {},
   "source": [
    "### Problem I Struggled With:"
   ]
  },
  {
   "cell_type": "markdown",
   "metadata": {},
   "source": [
    "One thing I have been really wanting to examine is the similarities between lagrange interpolation and divided differences. So I decided for one of my problems, I wanted to prove that they both come up with the same results. Divided differences finds a more discrete polynomial as it solves for a function significantly faster. However, if you were to add points, you would have to do the process of finding a poly. from scratch. Lagrange is better for larger data sets and dealing with more thoretical uses of interpolation, such as when we were doing image repair, which contains hundreds of nodes. I don't know about you, but divided difference would be significantly tougher to use.\n",
    "\n",
    "But despite their uses, they are both tools for interpolation, and hence should find the same polynomial for some dataset. Lets start with something simple, say a polynomial of degree 1.\n",
    "\n",
    "The general form for divided differences is:\n",
    "\n",
    "$$P_n(x)=f(x_0)+(x-x_0)f(x_0,x_1)+(x-x_0)(x-x_1)f(x_0,x_1,x_2)+\\cdots+(x-x_0)(x-x_1)\\cdots(x-x_n)f(x_0,x_1,\\ldots,x_n)$$"
   ]
  },
  {
   "cell_type": "markdown",
   "metadata": {},
   "source": [
    "And the general form for lagrange interpolation is:\n",
    "\n",
    "$$P_n(x)=L_0(x)y_0+L_1(x)y_1+L_2(x)y_2+\\cdots+L_n(x)y_n$$\n",
    "\n",
    "where\n",
    "\n",
    "$$L_i(x)=\\frac{(x-x_0)\\cdots(x-x_{i-1})(x-x_{i+1})\\cdots(x-x_n)}{(x_i-x_0)\\cdots(x_i-x_{i-1})(x_i-x_{i+1})\\cdots(x_i-x_n)}$$"
   ]
  },
  {
   "cell_type": "markdown",
   "metadata": {},
   "source": [
    "For degree 1, we will examine $P_1(x)$. So lets first try to show Lagrange can transform to divided differences:\n",
    "\n",
    "$$P_1(x)=L_0(x)y_0+L_1(x)y_1$$\n",
    "\n",
    "where\n",
    "\n",
    "$$L_0(x)=\\frac{x-x_1}{x_0-x_1} \\hspace{1cm} L_1(x)=\\frac{x-x_0}{x_1-x_0}$$\n",
    "\n",
    "So,\n",
    "\n",
    "$$P_1(x)=\\left[\\frac{x-x_1}{x_0-x_1}\\right]y_0+\\left[\\frac{x-x_0}{x_1-x_0}\\right]y_1$$\n",
    "\n",
    "Now divided differences deals with $f(x)$, which can also be viewed as $f(x_n)=y_n$. So if $y_0=f(x_0)$, then by the divided differences general form, I want to isolate $y_0$. So,\n",
    "\n",
    "$$P_1(x)=y_0-y_0+\\left[\\frac{x-x_1}{x_0-x_1}\\right]y_0+\\left[\\frac{x-x_0}{x_1-x_0}\\right]y_1$$\n",
    "\n",
    "$$P_1(x)=y_0+\\left[\\frac{x-x_1}{x_0-x_1}-1\\right]y_0+\\left[\\frac{x-x_0}{x_1-x_0}\\right]y_1$$\n",
    "\n",
    "$$P_1(x)=y_0+\\left[\\frac{x-x_1-(x_0-x_1)}{x_0-x_1}\\right]y_0+\\left[\\frac{x-x_0}{x_1-x_0}\\right]y_1$$\n",
    "\n",
    "$$P_1(x)=y_0+\\left[\\frac{x-x_0}{x_0-x_1}\\right]y_0+\\left[\\frac{x-x_0}{x_1-x_0}\\right]y_1$$\n",
    "\n",
    "$$P_1(x)=y_0+\\left[\\frac{x-x_0}{x_1-x_0}\\right](-y_0)+\\left[\\frac{x-x_0}{x_1-x_0}\\right]y_1$$\n",
    "\n",
    "$$P_1(x)=y_0+(x-x_0)\\left[\\frac{y_1-y_0}{x_1-x_0}\\right]$$\n",
    "\n",
    "$$P_1(x)=f(x_0)+(x-x_0)\\left[\\frac{f(x_1)-f(x_0)}{x_1-x_0}\\right]$$\n",
    "\n",
    "$$P_1(x)=f(x_0)+(x-x_0)f(x_0,x_1)$$\n",
    "\n",
    "We successfully derived $P_1(x)$ from lagrange to divided differences. Now just to double check, lets go to a a second degree polynomial:"
   ]
  },
  {
   "cell_type": "markdown",
   "metadata": {},
   "source": [
    "$$P_2(x)=L_0(x)y_0+L_1(x)y_1+L_2(x)y_2$$\n",
    "\n",
    "where\n",
    "\n",
    "$$L_0(x)=\\frac{(x-x_1)(x-x_2)}{(x_0-x_1)(x_0-x_2)} \\hspace{1cm} L_1(x)=\\frac{(x-x_0)(x-x_2)}{(x_1-x_0)(x_1-x_2)} \\hspace{1cm} L_2(x)=\\frac{(x-x_0)(x-x_1)}{(x_2-x_0)(x_2-x_1)}$$\n",
    "\n",
    "So,\n",
    "\n",
    "$$P_2(x)=\\left[\\frac{(x-x_1)(x-x_2)}{(x_0-x_1)(x_0-x_2)}\\right]y_0+\\left[\\frac{(x-x_0)(x-x_2)}{(x_1-x_0)(x_1-x_2)}\\right]y_1+\\left[\\frac{(x-x_0)(x-x_1)}{(x_2-x_0)(x_2-x_1)}\\right]y_2$$\n",
    "\n",
    "$$P_2(x)=y_0+(x-x_0)\\frac{y_1-y_0}{x_0-x_1}-y_0-(x-x_0)\\frac{y_1-y_0}{x_0-x_1}+\\left[\\frac{(x-x_1)(x-x_2)}{(x_0-x_1)(x_0-x_2)}\\right]y_0+\\left[\\frac{(x-x_0)(x-x_2)}{(x_1-x_0)(x_1-x_2)}\\right]y_1+\\left[\\frac{(x-x_0)(x-x_1)}{(x_2-x_0)(x_2-x_1)}\\right]y_2$$\n",
    "\n",
    "$$P_2(x)=f(x_0)+f(x_0,x_1)+\\left[\\frac{x-x_0}{x_1-x_0}-1\\right]y_0-\\left[\\frac{x-x_0}{x_1-x_0}\\right]y_1+\\left[\\frac{(x-x_1)(x-x_2)}{(x_0-x_1)(x_0-x_2)}\\right]y_0+\\left[\\frac{(x-x_0)(x-x_2)}{(x_1-x_0)(x_1-x_2)}\\right]y_1+\\left[\\frac{(x-x_0)(x-x_1)}{(x_2-x_0)(x_2-x_1)}\\right]y_2$$\n",
    "\n",
    "$$P_2(x)=f(x_0)+f(x_0,x_1)+\\left[\\frac{x-x_1}{x_1-x_0}\\right]y_0-\\left[\\frac{x-x_0}{x_1-x_0}\\right]y_1+\\left[\\frac{(x-x_1)(x-x_2)}{(x_0-x_1)(x_0-x_2)}\\right]y_0+\\left[\\frac{(x-x_0)(x-x_2)}{(x_1-x_0)(x_1-x_2)}\\right]y_1+\\left[\\frac{(x-x_0)(x-x_1)}{(x_2-x_0)(x_2-x_1)}\\right]y_2$$\n",
    "\n",
    "$$P_2(x)=f(x_0)+f(x_0,x_1)+\\left[\\frac{(x-x_1)(x-x_2)}{(x_0-x_1)(x_0-x_2)}+\\frac{x-x_1}{x_1-x_0}\\right]y_0+\\left[\\frac{(x-x_0)(x-x_2)}{(x_1-x_0)(x_1-x_2)}-\\frac{x-x_0}{x_1-x_0}\\right]y_1+\\left[\\frac{(x-x_0)(x-x_1)}{(x_2-x_0)(x_2-x_1)}\\right]y_2$$\n",
    "\n",
    "$$P_2(x)=f(x_0)+f(x_0,x_1)+\\left[\\frac{(x-x_1)(x-x_2)-(x-x_1)(x_0-x_2)}{(x_0-x_1)(x_0-x_2)}\\right]y_0+\\left[\\frac{(x-x_0)(x-x_2)-(x-x_0)(x_1-x_2)}{(x_1-x_0)(x_1-x_2)}\\right]y_1+\\left[\\frac{(x-x_0)(x-x_1)}{(x_2-x_0)(x_2-x_1)}\\right]y_2$$\n",
    "\n",
    "$$P_2(x)=f(x_0)+f(x_0,x_1)+(x-x_0)(x-x_1)\\left[\\frac{y_0}{(x_0-x_1)(x_0-x_2)}+\\frac{y_1}{(x_1-x_0)(x_1-x_2)}+\\frac{y_2}{(x_2-x_0)(x_2-x_1)}\\right]$$\n",
    "\n",
    "$$P_2(x)=f(x_0)+f(x_0,x_1)+(x-x_0)(x-x_1)\\left[\\frac{y_0}{(x_1-x_0)(x_2-x_0)}-\\frac{y_1}{(x_1-x_0)(x_2-x_1)}+\\frac{y_2}{(x_2-x_0)(x_2-x_1)}\\right]$$\n",
    "\n",
    "$$P_2(x)=f(x_0)+f(x_0,x_1)+(x-x_0)(x-x_1)\\left[\\frac{y_0(x_2-x_1)-y_1(x_2-x_0)+y_2(x_1-x_0)}{(x_1-x_0)(x_2-x_0)(x_2-x_1)}\\right]$$\n",
    "\n",
    "$$P_2(x)=f(x_0)+f(x_0,x_1)+(x-x_0)(x-x_1)\\cdot\\frac{1}{(x_2-x_0)}\\cdot\\left[\\frac{y_0(x_2-x_1)-y_1(x_2-x_0)+y_2(x_1-x_0)}{(x_1-x_0)(x_2-x_1)}\\right]$$\n",
    "\n",
    "$$P_2(x)=f(x_0)+f(x_0,x_1)+(x-x_0)(x-x_1)\\cdot\\frac{1}{(x_2-x_0)}\\cdot\\left[\\frac{y_0}{(x_1-x_0)}-\\frac{y_1(x_2-x_0)}{(x_1-x_0)(x_2-x_1)}+\\frac{y_2}{(x_2-x_1)}\\right]$$\n",
    "\n",
    "$$P_2(x)=f(x_0)+f(x_0,x_1)+(x-x_0)(x-x_1)\\cdot\\frac{1}{(x_2-x_0)}\\cdot\\left[\\frac{y_0}{(x_1-x_0)}-\\frac{y_1(x_2-x_0)}{(x_1-x_0)(x_2-x_1)}+\\frac{y_2-y_1+y_1}{(x_2-x_1)}\\right]$$\n",
    "\n",
    "$$P_2(x)=f(x_0)+f(x_0,x_1)+(x-x_0)(x-x_1)\\cdot\\frac{1}{(x_2-x_0)}\\cdot\\left[\\frac{y_0}{(x_1-x_0)}-\\frac{y_1(x_2-x_0)}{(x_1-x_0)(x_2-x_1)}+f(x_1,x_2)+\\frac{y_1}{(x_2-x_1)}\\right]$$\n",
    "\n",
    "$$P_2(x)=f(x_0)+f(x_0,x_1)+(x-x_0)(x-x_1)\\cdot\\frac{1}{(x_2-x_0)}\\cdot\\left[\\frac{y_0}{(x_1-x_0)}+\\frac{y_1(x_1-x_0)-y_1(x_2-x_0)}{(x_1-x_0)(x_2-x_1)}+f(x_1,x_2)\\right]$$\n",
    "\n",
    "$$P_2(x)=f(x_0)+f(x_0,x_1)+(x-x_0)(x-x_1)\\cdot\\frac{1}{(x_2-x_0)}\\cdot\\left[\\frac{y_0}{(x_1-x_0)}+\\frac{y_1(x_1-x_2)}{(x_1-x_0)(x_2-x_1)}+f(x_1,x_2)\\right]$$\n",
    "\n",
    "$$P_2(x)=f(x_0)+f(x_0,x_1)+(x-x_0)(x-x_1)\\cdot\\frac{1}{(x_2-x_0)}\\cdot\\left[\\frac{y_0}{(x_1-x_0)}-\\frac{y_1}{(x_1-x_0)}+f(x_1,x_2)\\right]$$\n",
    "\n",
    "$$P_2(x)=f(x_0)+f(x_0,x_1)+(x-x_0)(x-x_1)\\cdot\\frac{1}{(x_2-x_0)}\\cdot\\left[f(x_1,x_2)+\\frac{-(y_1-y_0)}{(x_1-x_0)}\\right]$$\n",
    "\n",
    "$$P_2(x)=f(x_0)+f(x_0,x_1)+(x-x_0)(x-x_1)\\cdot\\frac{1}{(x_2-x_0)}\\cdot\\left[f(x_1,x_2)-f(x_0,x_1)\\right]$$\n",
    "\n",
    "$$P_2(x)=f(x_0)+f(x_0,x_1)+(x-x_0)(x-x_1)f(x_0,x_1,x_2)$$"
   ]
  },
  {
   "cell_type": "markdown",
   "metadata": {},
   "source": [
    "Through a lot of work, I showed that divided differences can be derived from lagrange interpolation. I won't go any higher as that will be a nightmare. Just the main thing I wanted to show was the two methods of approximating polynomials weren't so different, despite how their appearances differ. Now Lagrange can definetly get a bit complicated, but still does great for big datasets, while divided differences is great to use by hand, but becomes too much as the degree increases for our polynomial."
   ]
  },
  {
   "cell_type": "markdown",
   "metadata": {},
   "source": [
    "When googling different applications of interpolation, I discovered a use for it in the cryptography field. It was something called the Shamir secret sharing algoithm.\n",
    "\n",
    "Lets say we have a message, or code, we want to encrypt. Lets say that the code is $C=491$. Now we can choose how many keys we would like the code to contain. For now lets say we have $N=4$, such that $C$ can be divided up, and each key can help achieve the code we are encrypting. Once we have the number of keys, we can select a number, $k$, which represents the number of keys needed in order to decrypt the message. Therefore, if we have fewer than $k$ keys, then we will not be able to crack the code. Now that we know $k$, we can create a polynomial that can contain all the keys needed to crack the code. However, there is a catch. Say we are dealing with a linear function. We can't solve the function with only one point as that one point has an infinite amount of functions that pass through it. So we need at least two points to find said function. Similarly with quadratic functions, we have too many possible solutions if we have only one or two points (could pass through two points, but the line in between could be a max or min). Therefore, 3 points is probably the minimum we need to crack the code. One pattern that can be noticed is that when $k=2$, or 2 keys are needed, it is for a linear function, or a polynomial of degree 1. For quadratic, it is $k=3$. So When building our polynomial, it must be one of degree (k-1). Hence, in order to crack the code, we must find a polynomial of degree (k-1).\n",
    "\n",
    "It would probably be better to get on with an example so my explanation makes much more sense. As before, say $C=491$, $N=4$, and $k=3$. Therefore, we want to create a polynomial of the form:\n",
    "\n",
    "$$y=a_0+a_1x+a_2x^2$$\n",
    "\n",
    "In this polynomial, we want $a_0$ to be the code we are trying to crack. That way when the function is discovered, it is easy to spot. For $a_1$ and $a_2$, they can be any random number we chose. Therefore, I will say that $a_1=21$ and $a_2=-7$. Therefore making the polynomial as:\n",
    "\n",
    "$$y=491+21x-7x^2$$\n",
    "\n",
    "With the polynomial created, lets create our keys, which we should have $N=4$ total. Let the four points be $(6,365)$, $(10,1)$, $(11,-125)$, and $(16,-965)$. \n",
    "\n",
    "Now our code is fully encrypted, and the only way to decrypt it is using Lagrange interpolation with at least three of the keys."
   ]
  },
  {
   "cell_type": "markdown",
   "metadata": {},
   "source": [
    "So say we as the reciever of the encryption is given the points $(16,-965)$, $(10,1)$, and $(6,365)$. Using Lagrange interpolation, we say that:\n",
    "\n",
    "$$P_2(x)=L_0(x)y_0+L_1(x)y_1+L_2(x)y_2$$\n",
    "\n",
    "where\n",
    "\n",
    "$$L_0(x)=\\frac{(x-x_1)(x-x_2)}{(x_0-x_1)(x_0-x_2)} \\hspace{1cm} L_1(x)=\\frac{(x-x_0)(x-x_2)}{(x_1-x_0)(x_1-x_2)} \\hspace{1cm} L_2(x)=\\frac{(x-x_0)(x-x_1)}{(x_2-x_0)(x_2-x_1)}$$\n",
    "\n",
    "Using our points $(6,365)$, $(10,1)$, $(16,-965)$, we can start approx. out lagrange basis functions. So,\n",
    "\n",
    "$$L_0(x)=\\frac{(x-x_1)(x-x_2)}{(x_0-x_1)(x_0-x_2)}=\\frac{(x-10)(x-16)}{(6-10)(6-16)}=\\frac{x^2-26x+160}{(-4)(-10)}=\\frac{x^2-26x+160}{40}$$\n",
    "\n",
    "$$L_1(x)=\\frac{(x-x_0)(x-x_2)}{(x_1-x_0)(x_1-x_2)}=\\frac{(x-6)(x-16)}{(10-6)(10-16)}=\\frac{x^2-22x+96}{(4)(-6)}=-\\frac{x^2-22x+96}{24}$$\n",
    "\n",
    "$$L_2(x)=\\frac{(x-x_0)(x-x_1)}{(x_2-x_0)(x_2-x_1)}=\\frac{(x-6)(x-10)}{(16-6)(16-10)}=\\frac{x^2-16x+60}{(10)(6)}=\\frac{x^2-16x+60}{60}$$\n",
    "\n",
    "Now we can plug these into $P_2(x)$ in order to find our polynomial:\n",
    "\n",
    "$$P_2(x)=\\left[\\frac{x^2-26x+160}{40}\\right]y_0-\\left[\\frac{x^2-22x+96}{24}\\right]y_1+\\left[\\frac{x^2-16x+60}{60}\\right]y_2$$\n",
    "\n",
    "Since we also know the y values, we can plug those in too:\n",
    "\n",
    "$$P_2(x)=\\left[\\frac{x^2-26x+160}{40}\\right](365)-\\left[\\frac{x^2-22x+96}{24}\\right](1)+\\left[\\frac{x^2-16x+60}{60}\\right](-965)$$\n",
    "\n",
    "$$P_2(x)=\\frac{(365)(3)(x^2-26x+160)-(5)(x^2-22x+96)-(965)(2)(x^2-16x+60)}{120}$$\n",
    "\n",
    "$$P_2(x)=\\frac{(1,095x^2-28,470x+175,200)-(5x^2-110x+480)-(1,930x^2-30,880x+115,800)}{120}$$\n",
    "\n",
    "$$P_2(x)=\\frac{58,920+2,520x-840x^2}{120}$$\n",
    "\n",
    "$$P_2(x)=491+21x-7x^2$$\n",
    "\n",
    "This polynomial is our solution, as shown from earlier, meaning the code is $491$. Hence, we have decrypted our function."
   ]
  },
  {
   "cell_type": "markdown",
   "metadata": {},
   "source": [
    "### Problem I Am Proud Of:"
   ]
  },
  {
   "cell_type": "markdown",
   "metadata": {},
   "source": [
    "Going to be totally honest, there wasn't really anything I struggled with for interpolation. And honestly, the stuff I was proud of was the problems I did for those I \"struggled\" with, especially the cryptography application as that is the field of study I want to get into or learn more about. So for this section, I am just going to do some challenge pproblems I find and see how I do.\n",
    "\n",
    "For the first problem, I want to examine a form of interpolation error that we didn't really get to touch upon in the lectures. So the question is $#8$ from section 4.2:"
   ]
  },
  {
   "cell_type": "markdown",
   "metadata": {},
   "source": [
    "$8)$ Let $f(x)=x^4+\\sqrt{2}x^3+\\pi x$. Verify whether $f[0,1,2,3,4]=f[0,1,\\pi,e,-1]$."
   ]
  },
  {
   "cell_type": "markdown",
   "metadata": {},
   "source": [
    "So in the problem, our goal is to just prove that $f[0,1,2,3,4]=f[0,1,\\pi,e,-1]$. According to the book, it shows that\n",
    "\n",
    "$$\\frac{f^{(m)}(c)}{m!}=f[x_0,x_1,\\ldots,x_{m-1},x_m]$$\n",
    "\n",
    "where\n",
    "\n",
    "$$min[x_0,\\ldots,x_m]\\leq c\\leq max[x_0,\\ldots,x_m]$$\n",
    "\n",
    "This apparently is derived from another version of the error formula for interpolation.\n",
    "So lets start testing our different functions of f:\n",
    "\n",
    "$$f[0,1,2,3,4]=\\frac{f^{(4)}(c)}{4!}$$\n",
    "\n",
    "We don't know what c is yet, so lets find the fourth order derivative of f:\n",
    "\n",
    "$$f(x)=x^4+\\sqrt{2}x^3+\\pi x$$\n",
    "\n",
    "$$f'(x)=4x^3+3\\sqrt{2}x^2+\\pi$$\n",
    "\n",
    "$$f''(x)=12x^2+6\\sqrt{2}x$$\n",
    "\n",
    "$$f'''(x)=24x+6\\sqrt{2}$$\n",
    "\n",
    "$$f''''(x)=24$$\n",
    "\n",
    "Since the fourth order derivative is just a constant, it doesn't really matter what c is. So,\n",
    "\n",
    "$$f[0,1,2,3,4]=\\frac{24}{4!}$$\n",
    "\n",
    "$$f[0,1,2,3,4]=1$$\n",
    "\n",
    "Now to test $f[0,1,\\pi,e,-1]$:\n",
    "\n",
    "$$f[0,1,\\pi,e,-1]=\\frac{f^{(4)}(c)}{4!}$$\n",
    "\n",
    "This just ends up being 1 again as nothing much has changed, despite the different x values. Therefore, $f[0,1,2,3,4]=f[0,1,\\pi,e,-1]$"
   ]
  },
  {
   "cell_type": "markdown",
   "metadata": {},
   "source": [
    "Then for my second problem, I just want to get more practice in with error bound as I tend to mess them up a lot seperately from interpolation. So I will go with $#2$ from section $4.2$"
   ]
  },
  {
   "cell_type": "markdown",
   "metadata": {},
   "source": [
    "$2)$ Repeat problem 1 with $f(x)=tan^{-1}(x)$ on $[0,0.8]$. \n",
    "\n",
    "And basically problem 1 just asks to find the error bounds for both a linear and quadratic interpolations, where h=0.01 steps."
   ]
  },
  {
   "cell_type": "markdown",
   "metadata": {},
   "source": [
    "By our defintion for polynomial error,\n",
    "\n",
    "$$Error=E(x)=f(x)-P_n(x)=\\frac{(x-x_0)(x-x_1)\\cdots(x-x_n)}{(n+1)!}f^{(n+1)}(c_x)$$\n",
    "\n",
    "Therefore, for our first bound, we are dealing with a linear polynomial. So,\n",
    "\n",
    "$$E(x)=\\frac{(x-x_0)(x-x_1)}{2!}f^{(2)}(c_x)$$\n",
    "\n",
    "Before continuing, we must first find out what $f''(x)$ is. So:\n",
    "\n",
    "$$f(x)=tan^{-1}(x)$$\n",
    "\n",
    "$$f'(x)=\\frac{1}{1+x^2}$$\n",
    "\n",
    "$$f''(x)=\\frac{-2x}{(1+x^2)^2}$$\n",
    "\n",
    "Therefore,\n",
    "\n",
    "$$E(x)=\\frac{(x-x_0)(x-x_1)}{2!}\\cdot\\frac{-2c_x}{(1+c_x^2)^2}$$\n",
    "\n",
    "In order to find the best error bound, we want to find out the largest value $f''(c_x)$ can be. I then plugged in my function into my calculator and found that the max value for $f''$ was $f''(0.5774)=-0.6495$. Don't have to worry too much about the negative as it will mash into the rest of the function. Therefore,\n",
    "\n",
    "$$|E(x)|<\\frac{(x-x_0)(x_1-x)}{2}\\cdot0.6495$$\n",
    "\n",
    "Then based on our notes, we already know that $\\frac{(x-x_0)(x_1-x)}{2}$ has a max at $\\frac{h^2}{4}$. So,\n",
    "\n",
    "$$|E(x)|<\\frac{h^2}{4}\\cdot0.6495$$\n",
    "\n",
    "We know we are using $h=0.01$ steps. So,\n",
    "\n",
    "$$|E(x)|<\\frac{(0.01)^2}{4}\\cdot0.6495$$\n",
    "\n",
    "$$|E(x)|<1.624\\times10^{-5}$$\n",
    "\n",
    "Now for our quadratic bound:\n",
    "\n",
    "$$E(x)=\\frac{(x-x_0)(x-x_1)(x-x_2)}{3!}f^{(3)}(c_x)$$\n",
    "\n",
    "Now we have to differentiate higher:\n",
    "\n",
    "$$f'''(x)=\\frac{6x^2-2}{(1+x^2)^3}$$\n",
    "\n",
    "Therefore,\n",
    "\n",
    "$$E(x)=\\frac{(x-x_0)(x-x_1)(x-x_2)}{3!}\\cdot\\frac{6c_x^2-2}{(1+c_x^2)^3}$$\n",
    "\n",
    "In order to find the best error bound, we want to find out the largest value $f'''(c_x)$ can be. I then plugged in my function into my calculator and found that the max value for $f''$ was $f''(1)=0.5$, which is out of our range. Therefore, $x=0.8$ will be our highest value, where $f'''(0.8)=0.4171$. So,\n",
    "\n",
    "$$|E(x)|<\\frac{(x-x_0)(x-x_1)(x-x_2)}{6}0.4171$$\n",
    "\n",
    "Based on the notes, we know that $\\frac{(x-x_0)(x-x_1)(x-x_2)}{6}$ maxes at $\\frac{h^3}{9\\sqrt{3}}$ So,\n",
    "\n",
    "$$|E(x)|<\\frac{(0.01)^3}{9\\sqrt{3}}0.4171$$\n",
    "\n",
    "$$|E(x)|<2.6738\\times10^{-8}$$"
   ]
  },
  {
   "cell_type": "markdown",
   "metadata": {},
   "source": [
    "### How I Contributed To My Group:"
   ]
  },
  {
   "cell_type": "markdown",
   "metadata": {},
   "source": [
    "As implied by the title, this check-in is to help catch me up from last week and this week, hence why there is a lot more content. But besides that, I feel I contributed to my group by my ability to keep on top of the lectures and understanding what they are trying to convey. There were many instances, such as when we got into the error of interpolation, where I had to help teach my group the topic we were meeting up for as some were falling behind, which is understanable as I have been doing the same thing. However, I really do enjoy the lectures, so I am usually on top of it. But questions arose, like where did h come from in error bounds, or personal preference between lagrange and divided differences in finding polynomials (which there is no real difference, other than Lagrange is a bit messier, making divided differences better for doing the process by hand). That was the summary of what I did these few weeks. Basically just answered questions based on my understanding of the notes as I tend to write pretty good notes when it comes to lectures."
   ]
  },
  {
   "cell_type": "markdown",
   "metadata": {},
   "source": [
    "### What Are My Next Goals:"
   ]
  },
  {
   "cell_type": "markdown",
   "metadata": {},
   "source": [
    "I know in the past few check ins, my goals have been centered around exploring topics that relate to what we learn, such as other similar algorithms or applications. This week I really had fun in discovering interpolation application in cryptography as I am deeply in love with that field. Making that discovery really open my eyes as to what numerical analysis has to offer in the world of mathematics. I am sure there are plenty of concepts I haven't even scratch surface on, but I hope to continue finding newer and cooler applications of what we have been learning, especially if they have applications to cryptography or number theory. But besides that, I know one of my first goals was to really improve on my Latex writing skills. They have definetly improved, but I can see that my work can get messy at times and programming the functions in can be very time consuming. So I want to try and find more efficient methods of writing Latex so I am not spending countless hours writing it up for questions I have alreaady solved on paper."
   ]
  }
 ],
 "metadata": {
  "kernelspec": {
   "display_name": "Python 3",
   "language": "python",
   "name": "python3"
  },
  "language_info": {
   "codemirror_mode": {
    "name": "ipython",
    "version": 3
   },
   "file_extension": ".py",
   "mimetype": "text/x-python",
   "name": "python",
   "nbconvert_exporter": "python",
   "pygments_lexer": "ipython3",
   "version": "3.8.3"
  }
 },
 "nbformat": 4,
 "nbformat_minor": 4
}
