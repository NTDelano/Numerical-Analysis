{
 "cells": [
  {
   "cell_type": "markdown",
   "metadata": {},
   "source": [
    "# Noah Delano Weekly Check-In September 25"
   ]
  },
  {
   "cell_type": "markdown",
   "metadata": {},
   "source": [
    "## Problem I am proud of:"
   ]
  },
  {
   "cell_type": "markdown",
   "metadata": {},
   "source": [
    "For this week, we have continued on with examining different kinds of root-findining algorithms, but for the case of this week, we mainly examined one: Fixed Point Iteration. I know that we also learned about the Aitken Method, but it is basically a tool that just increases the rate of convergence for fix-point iteration. For the most part, it was pretty straight forward, but when it came to \"The Evil Evil Diabolical Problems\", according to professor Bieri, things became a bit more complicated. Hence I spent more of my time exploring these problems, which mostly dealt with functions with multiple roots or were just unstable, meaning little deviations from the original had HUGE side effects, such as possibly removing a root altogether. So the problem I decided to experiment with due to its involvement with these problems was #3 from chapter 3.5. So here is the problem: "
   ]
  },
  {
   "cell_type": "markdown",
   "metadata": {},
   "source": [
    "$3)$ Use the Fixed Point Iteration theory of Section $3.4$ to derive the results $(3.63)$ to $(3.65)$. To aid with this, first write\n",
    "\n",
    "$$x_{n+1}=g(x_n)\\equiv x_n-\\frac{f(x_n)}{f'(x_n)}$$\n",
    "\n",
    "and use $(3.59)$ to write\n",
    "\n",
    "$$g(x)=x-\\frac{(x-\\alpha)h(x)}{h(x)+(x-\\alpha)h'(x)}$$\n",
    "\n",
    "Apply Corollary $3.4.3$."
   ]
  },
  {
   "cell_type": "markdown",
   "metadata": {},
   "source": [
    "Before we start anything, we first need to state what \"results\" the problem is referring to in the book. So according to $(3.63)$, when using Newton's method to derive a root with multiplicity $m$, the ratios will approach\n",
    "\n",
    "$$\\lambda=\\frac{m-1}{m}, \\hspace{1cm} m\\ge1$$\n",
    "\n",
    "This can be derived, as said from the Newton Method, when dealing with a function like $f(x)=(x-\\alpha)^m$, which can contain multiple roots depending how big $m$ becomes. We derive this during the professor's lecture, so I will skip over it for now, but basically you use $f(x)$ and solve for the speed of convergence, $g'(x)$, and simplify, eventually coming with the ratio of $m$ from above."
   ]
  },
  {
   "cell_type": "markdown",
   "metadata": {},
   "source": [
    "From there, we know we are trying to find a way of manipulating $(3.63)$ so that it corresponds with $(3.65)$, which says the rate of of convergence, similar to the equation above, without the inclusion of multiplicity can be approximated as:\n",
    "\n",
    "$$\\lambda^n\\equiv\\frac{x_n-x_{n-1}}{x_{n-1}-x_{n-2}}$$\n",
    "\n",
    "This looks awfully familiar as this was a component of the Aitken method, such that it can greatly increase convergence for those that converge very slowly."
   ]
  },
  {
   "cell_type": "markdown",
   "metadata": {},
   "source": [
    "Then for $(3.59)$, it is basically a simple defintion for a function with a multiplicity of $m$. It states that the root of $f(x), \\alpha,$ is said to be of multiplicity $m$ if\n",
    "\n",
    "$$f(x)=(x-\\alpha)^mh(x)$$\n",
    "\n",
    "for some continuous function $h(x)$ with $h(\\alpha)\\neq0$ and $m\\ge1$.\n",
    "\n",
    "This is pretty straight forwards, so I won't really get into it."
   ]
  },
  {
   "cell_type": "markdown",
   "metadata": {},
   "source": [
    "Finally, corollary 3.4.3 is basically a component of the contraction mapping theorem, where $g'(x)=g'(\\alpha)$. Therefore, by the CMT,\n",
    "\n",
    "$$\\lambda\\equiv|g'(\\alpha)|<1$$"
   ]
  },
  {
   "cell_type": "markdown",
   "metadata": {},
   "source": [
    "Alright, now that all the relevant theorems and functions have been stated, we can finally get into the actual problem. First off, the problem would like us to start with the Newton Method, which we know from before can be derived to $\\lambda=\\frac{m-1}{m}$. So,\n",
    "\n",
    "$$x_{n+1}=g(x_n)\\equiv x_n-\\frac{f(x_n)}{f'(x_n)}$$\n",
    "\n",
    "Since we are dealing with fixed point iteration, then we know the fixed point form of $x_{n+1}=g(x_n)$. So,\n",
    "\n",
    "$$g(x_n)\\equiv x_n-\\frac{f(x_n)}{f'(x_n)}$$\n",
    "\n",
    "Now we have the functions of $g$ and $f$. With this in mind, we know what $f(x)$ is by (3.59). So:\n",
    "\n",
    "$$f(x)=(x-\\alpha)^mh(x)$$\n",
    "\n",
    "$$f'(x)=m(x-\\alpha)^{m-1}h(x)+(x-\\alpha)^mh'(x)$$\n",
    "\n",
    "Also I am beginning to drop the n in $x_n$ just to make it easier to type up. So,\n",
    "\n",
    "$$g(x_n)\\equiv x_n-\\frac{f(x_n)}{f'(x_n)}$$\n",
    "\n",
    "$$g(x)\\equiv x-\\frac{(x-\\alpha)^mh(x)}{m(x-\\alpha)^{m-1}h(x)+(x-\\alpha)^mh'(x)}$$"
   ]
  },
  {
   "cell_type": "markdown",
   "metadata": {},
   "source": [
    "Now since the function we are trying to derive involves rate of convergence, or $\\lambda$, then we need to take the derivative of $g(x_n)$. However, due to how complex $g(x_n)$ is, it would be a nightmare to take the derivative of it. So lets try to simplify if possible (which was something I totally did not try the first time since I tend to over complicate everything),\n",
    "\n",
    "$$g(x)\\equiv x-\\frac{(x-\\alpha)^mh(x)}{(x-\\alpha)^m[m(x-\\alpha)^{-1}h(x)+h'(x)]}$$\n",
    "\n",
    "$$g(x)\\equiv x-\\frac{h(x)}{\\frac{mh(x)+(x-\\alpha)h'(x)}{x-\\alpha}}$$\n",
    "\n",
    "$$g(x)\\equiv x-\\frac{(x-\\alpha)h(x)}{mh(x)+(x-\\alpha)h'(x)}$$"
   ]
  },
  {
   "cell_type": "markdown",
   "metadata": {},
   "source": [
    "This is very similar to what we had from the original problem to help us derive $\\lambda$, meaning we are on the right track. Plus, this will make finding $g'(x)$ much easier. So,\n",
    "\n",
    "$$g'(x)\\equiv1-\\frac{[mh(x)+(x-\\alpha)h'(x)]\\cdot[(x-\\alpha)h'(x)+h(x)]-[(x-\\alpha)h(x)]\\cdot[mh'(x)+(x-\\alpha)h''(x)+h'(x)]}{[mh(x)+(x-\\alpha)h'(x)]^2}$$\n",
    "\n",
    "$$g'(x)\\equiv1-\\frac{m(x-\\alpha)h(x)h'(x)+m[h(x)]^2+[(x-\\alpha)h'(x)]^2+(x-\\alpha)h(x)h'(x)-m(x-\\alpha)h(x)h'(x)-(x-\\alpha)^2h(x)h''(x)-(x-\\alpha)h(x)h'(x)}{[mh(x)+(x-\\alpha)h'(x)]^2}$$\n",
    "\n",
    "$$g'(x)\\equiv1-\\frac{m[h(x)]^2+[(x-\\alpha)h'(x)]^2-(x-\\alpha)^2h(x)h''(x)}{[mh(x)+(x-\\alpha)h'(x)]^2}$$\n",
    "\n",
    "$$g'(x)\\equiv\\frac{[mh(x)+(x-\\alpha)h'(x)]^2-[m[h(x)]^2+[(x-\\alpha)h'(x)]^2-(x-\\alpha)^2h(x)h''(x)]}{[mh(x)+(x-\\alpha)h'(x)]^2]}$$\n",
    "\n",
    "$$g'(x)\\equiv\\frac{m^2h(x)^2+2m(x-\\alpha)h(x)h'(x)+(x-\\alpha)^2h'(x)^2-m[h(x)]^2-[(x-\\alpha)h'(x)]^2+(x-\\alpha)^2h(x)h''(x)}{[mh(x)+(x-\\alpha)h'(x)]^2}$$\n",
    "\n",
    "$$g'(x)\\equiv\\frac{m^2h(x)^2-m[h(x)]^2+2m(x-\\alpha)h(x)h'(x)+(x-\\alpha)^2h(x)h''(x)}{[mh(x)+(x-\\alpha)h'(x)]^2}$$\n",
    "\n",
    "$$g'(x)\\equiv\\frac{(m^2-m)[h(x)]^2+2m(x-\\alpha)h(x)h'(x)+(x-\\alpha)^2h(x)h''(x)}{[mh(x)+(x-\\alpha)h'(x)]^2}$$"
   ]
  },
  {
   "cell_type": "markdown",
   "metadata": {},
   "source": [
    "Now this is where things became very complicated for me. I knew I wanted to derive $\\lambda=\\frac{m-1}{m}$ as it was the basis from what we are solving, which I could definetly see was a component of this function. Something had to be done with $h(x)$ and $(x-\\alpha)$. I first tried making the assumption that $h(x)=1$, therefore $h'(x)=0$, which gave the results of $g'(x)=\\frac{m-1}{m}$. However, I don't know too much about h, and therefore couldn't make that kind of assumption. I worked with Hunter for a bit trying to figure out the nature of $h(x)$, but then I had a realization. Instead of mostly examining $h(x)$, why not look more closely at $(x-\\alpha)$. As noted from corollary $3.4.3$, we know that $g'(x)=g'(\\alpha)$ and $|g'(\\alpha)|<1$. Therefore, I set $g'(x)=g'(\\alpha)$:\n",
    "\n",
    "$$g'(x)\\equiv\\frac{(m^2-m)[h(x)]^2+2m(x-\\alpha)h(x)h'(x)+(x-\\alpha)^2h(x)h''(x)}{[mh(x)+(x-\\alpha)h'(x)]^2}$$\n",
    "\n",
    "$$g'(\\alpha)\\equiv\\frac{(m^2-m)[h(x)]^2+2m(\\alpha-\\alpha)h(x)h'(x)+(\\alpha-\\alpha)^2h(x)h''(x)}{[mh(x)+(\\alpha-\\alpha)h'(x)]^2}$$\n",
    "\n",
    "$$g'(\\alpha)\\equiv\\frac{(m^2-m)[h(x)]^2}{[mh(x)]^2}$$\n",
    "\n",
    "$$g'(\\alpha)\\equiv\\frac{(m^2-m)[h(x)]^2}{m^2[h(x)]^2}$$\n",
    "\n",
    "$$g'(\\alpha)\\equiv\\frac{m^2-m}{m^2}$$\n",
    "\n",
    "$$g'(\\alpha)\\equiv\\frac{m-1}{m}$$"
   ]
  },
  {
   "cell_type": "markdown",
   "metadata": {},
   "source": [
    "By Corollary $3.4.3$, we can say:\n",
    "\n",
    "$$|g'(\\alpha)|<1$$\n",
    "\n",
    "$$|\\frac{m-1}{m}|<1$$"
   ]
  },
  {
   "cell_type": "markdown",
   "metadata": {},
   "source": [
    "Thus by the Contraction Mapping Theorem, we can say:\n",
    "\n",
    "$$\\lambda=\\frac{m-1}{m}$$\n",
    "\n",
    "Knowing this, we can say that:\n",
    "\n",
    "$$\\lambda^n\\equiv\\frac{x_n-x_{n-1}}{x_{n-1}-x_{n-2}}$$\n",
    "\n",
    "$$(\\frac{m-1}{m})^n\\equiv\\frac{x_n-x_{n-1}}{x_{n-1}-x_{n-2}}$$"
   ]
  },
  {
   "cell_type": "markdown",
   "metadata": {},
   "source": [
    "Also from the CMT, we know that \n",
    "\n",
    "$$\\alpha-x_n\\approx g'(\\alpha)(\\alpha-x_{n-1})$$\n",
    "\n",
    "$$\\alpha-x_n\\approx\\lambda(\\alpha-x_{n-1})$$\n",
    "\n",
    "as well as \n",
    "\n",
    "$$|\\alpha-x_n|\\leq\\frac{\\lambda^n}{1-\\lambda}|x_0-x_1|$$\n",
    "\n",
    "which involves both versions of $\\lambda$. Thus\n",
    "\n",
    "$$\\lambda=\\frac{m-1}{m}$$\n",
    "\n",
    "$$\\lambda^n\\equiv\\frac{x_n-x_{n-1}}{x_{n-1}-x_{n-2}}$$"
   ]
  },
  {
   "cell_type": "markdown",
   "metadata": {},
   "source": [
    "## Problem I Struggled With"
   ]
  },
  {
   "cell_type": "markdown",
   "metadata": {},
   "source": [
    "Ironically, when dealing with an example of a function with multiple roots, it was very difficult for me, mostly in the aspect of finding what root has a multiplicity higher than 1. So the question I went with was #2 from Section 3.5. "
   ]
  },
  {
   "cell_type": "markdown",
   "metadata": {},
   "source": [
    "$2)$ Use Newton's Method to calculate the roots of\n",
    "\n",
    "$$f(x)=x^4-3.2x^3+0.96x^2+4.608x-3.456$$\n",
    "\n",
    "Print out the iterates and the function values. Produce the ratios of $(3.62)$ by using the approximation $(3.65)$\n",
    "\n",
    "$$\\frac{\\alpha-x_n}{\\alpha-x_{n-1}}\\approx\\frac{x_{n+1}-x_n}{x_n-x_{n-1}}$$\n",
    "\n",
    "Repeat the problem for several choices of $x_0$. Make observations that seem important relative to the rootfinding problem."
   ]
  },
  {
   "cell_type": "markdown",
   "metadata": {},
   "source": [
    "The main thing I had issue with was trying to find roots without depending on a graph. I know graphs are suppose to help but, like when using algebra, I feel there are better ways of finding a root without a visual cue to help. So I began writing some code below to help me in this process:"
   ]
  },
  {
   "cell_type": "code",
   "execution_count": 1,
   "metadata": {},
   "outputs": [],
   "source": [
    "import numpy as np\n",
    "import matplotlib.pyplot as plt\n",
    "import pandas as pd"
   ]
  },
  {
   "cell_type": "code",
   "execution_count": 13,
   "metadata": {},
   "outputs": [],
   "source": [
    "#Define the function f(x) that I will be trying to find the roots for\n",
    "def f(x):\n",
    "    return x**4 - 3.2*x**3 + 0.96*x**2 + 4.608*x - 3.456\n",
    "\n",
    "#Defines the derivative of f(x), or f'(x)\n",
    "def df(x):\n",
    "    return 4*x**3 - 3*3.2*x**2 + 2*0.96*x + 4.608"
   ]
  },
  {
   "cell_type": "code",
   "execution_count": 23,
   "metadata": {},
   "outputs": [],
   "source": [
    "#Created a defintion, that will take in a minimum error tolerance and initial value, and try to find a root with an \n",
    "#error less than the tolerance\n",
    "def FPMulitpleRoots(error_tolerance,x0):\n",
    "    xvalues=[x0]    #Creates a list of the x values I will derive, starting with x0\n",
    "    error = 100     #Just a random value that we will try to get below the tolerance\n",
    "    xold = x0       #Make out initial x our old xvalue, or rather x_n before x_n+1\n",
    "    iterations = 0  #Intial value for number of iterations taken\n",
    "    \n",
    "    while error > error_tolerance: #While the error is greater than the tolerance we are trying to achieve,\n",
    "        iterations += 1 #Each Step requires +1 iterations\n",
    "        xnew=xold - f(xold)/df(xold) #Newton's Method: new x = old x - f(old x)/f'(old x)\n",
    "        xvalues.append(xnew) #Add the new x value to our list of them\n",
    "        \n",
    "        error=np.abs(xnew-xold) #Calculate the error between the old and new x values\n",
    "        xold = xnew #Set the new x as the old x for the next iteration\n",
    "        \n",
    "    print(\"Reached x=\", xold, \"with error of\", error, \"in\", iterations, \"iterations\")    \n",
    "    print(\"----------------------------------\")\n",
    "    "
   ]
  },
  {
   "cell_type": "code",
   "execution_count": 39,
   "metadata": {},
   "outputs": [
    {
     "name": "stdout",
     "output_type": "stream",
     "text": [
      "Reached x= -1.2000000000386326 with error of 5.806504762784215e-06 in 11 iterations\n",
      "----------------------------------\n"
     ]
    }
   ],
   "source": [
    "#Based on the f(x), I am guessing there should at be a max of 4 roots since the function is of the form x^4\n",
    "e = .00001 #I would like an error less than 1X10^-5\n",
    "intitialx = -12 #I will start with x=-12 for my first guess\n",
    "FPMulitpleRoots(e,intitialx)"
   ]
  },
  {
   "cell_type": "markdown",
   "metadata": {},
   "source": [
    "It appears that one of the roots is about $x=-1.2$. So in order to find other roots, I tried values of x less than -12. So,"
   ]
  },
  {
   "cell_type": "code",
   "execution_count": 40,
   "metadata": {},
   "outputs": [
    {
     "name": "stdout",
     "output_type": "stream",
     "text": [
      "Reached x= -1.200000000000145 with error of 3.558030359229747e-07 in 13 iterations\n",
      "----------------------------------\n",
      "Reached x= -1.2 with error of 7.023288617347134e-10 in 19 iterations\n",
      "----------------------------------\n",
      "Reached x= -1.2 with error of 5.182858586749717e-10 in 27 iterations\n",
      "----------------------------------\n",
      "Reached x= -1.2 with error of 5.292570826043175e-10 in 35 iterations\n",
      "----------------------------------\n"
     ]
    }
   ],
   "source": [
    "FPMulitpleRoots(e,-20) #Initial Value x=-20\n",
    "FPMulitpleRoots(e,-100) #Initial Value x=-100\n",
    "FPMulitpleRoots(e,-1000) #Initial Value x=-1000\n",
    "FPMulitpleRoots(e,-10000) #Initial Value x=-10000"
   ]
  },
  {
   "cell_type": "markdown",
   "metadata": {},
   "source": [
    "It appears that all the initial values I tested eventually reach $x=-1.2$ as a root. Therefore, I am going to assume there shouldn't be any other roots less than $x=-1.2$. Now to find other possible roots:"
   ]
  },
  {
   "cell_type": "code",
   "execution_count": 36,
   "metadata": {},
   "outputs": [
    {
     "name": "stdout",
     "output_type": "stream",
     "text": [
      "Reached x= -1.2 with error of 6.354619053183796e-10 in 5 iterations\n",
      "----------------------------------\n",
      "Reached x= 1.1999916026254756 with error of 8.397273326687937e-06 in 17 iterations\n",
      "----------------------------------\n"
     ]
    }
   ],
   "source": [
    "FPMulitpleRoots(e,-1) #Initial Value x=-1\n",
    "FPMulitpleRoots(e,0) #Initial Value x=0"
   ]
  },
  {
   "cell_type": "markdown",
   "metadata": {},
   "source": [
    "Now it appears a different root appeared with the initial value of $x_0=0$, with a root set at approximately $x=1.2$. Now lets try to find another:"
   ]
  },
  {
   "cell_type": "code",
   "execution_count": 42,
   "metadata": {
    "scrolled": true
   },
   "outputs": [
    {
     "name": "stdout",
     "output_type": "stream",
     "text": [
      "Reached x= 1.1999930793928721 with error of 6.920542760857629e-06 in 15 iterations\n",
      "----------------------------------\n",
      "Reached x= 2.000000000000024 with error of 8.535482676208517e-08 in 10 iterations\n",
      "----------------------------------\n"
     ]
    }
   ],
   "source": [
    "FPMulitpleRoots(e,1)\n",
    "FPMulitpleRoots(e,5)"
   ]
  },
  {
   "cell_type": "markdown",
   "metadata": {},
   "source": [
    "Now it appears another different root appeared with the initial value of $x_0=5$, with a root set at approximately $x=1.2$. Now lets try to find another:"
   ]
  },
  {
   "cell_type": "code",
   "execution_count": 45,
   "metadata": {},
   "outputs": [
    {
     "name": "stdout",
     "output_type": "stream",
     "text": [
      "Reached x= 1.9999999999999998 with error of 1.0358707447366555e-08 in 13 iterations\n",
      "----------------------------------\n",
      "Reached x= 2.0000000000006803 with error of 4.919578051598705e-07 in 13 iterations\n",
      "----------------------------------\n",
      "Reached x= 2.0000000000274767 with error of 3.1256163248727376e-06 in 15 iterations\n",
      "----------------------------------\n",
      "Reached x= 2.0000000000002958 with error of 3.235092678188778e-07 in 29 iterations\n",
      "----------------------------------\n",
      "Reached x= 2.0000000000003344 with error of 3.4414869709564755e-07 in 37 iterations\n",
      "----------------------------------\n",
      "Reached x= 2.0000000000003606 with error of 3.5819319821328577e-07 in 45 iterations\n",
      "----------------------------------\n",
      "Reached x= 2.000000000000388 with error of 3.719671459734286e-07 in 53 iterations\n",
      "----------------------------------\n"
     ]
    }
   ],
   "source": [
    "FPMulitpleRoots(e,10)\n",
    "FPMulitpleRoots(e,11)\n",
    "FPMulitpleRoots(e,20)\n",
    "FPMulitpleRoots(e,1000)\n",
    "FPMulitpleRoots(e,10000)\n",
    "FPMulitpleRoots(e,100000)\n",
    "FPMulitpleRoots(e,1000000)"
   ]
  },
  {
   "cell_type": "markdown",
   "metadata": {},
   "source": [
    "Now this is where I got stuck for awhile, because I knew one of them had to have a multiplicity of 2 since f(x) is of multiplicity 4 and I have only found 3 roots: $x=-1.2,1.2,2$.\n",
    "\n",
    "As I was looking through the book (which isn't always helpful as it definetly tends to brush over topics sometimes), I saw on page 109 with the equation (3.59). It said that if $f(x)$ is sufficiently differentiable, an equivalent definition is that\n",
    "\n",
    "$$f(\\alpha)=f'(\\alpha)=\\cdots=f^{(m-1)}(\\alpha)=0, \\hspace{1cm} f^{(m)}(\\alpha)\\neq0$$\n",
    "\n",
    "$m=1$ is called a simple root and represents the multiplicity of a root. In the case of $f(x)=(x-1)^2$, $x=1$ is the root. So if we substitute x for f'(x), it to will be 0. But since $f''(x)=0$, the max multiplicty of f(x) is 2. Therefore $x=1$ is a root with multiplicty 2.\n",
    "\n",
    "Now this may seem straightforward based on what the book showed, but after spending so much time on the problem I was proud of, I forgot how to actually apply what I was proving on a real example instead of a generalized one. So I spent hours trying to figure out multiplicity values. So when I saw this, I face palmed hard.\n",
    "\n",
    "So, with my stupidity set aside, lets try the different roots."
   ]
  },
  {
   "cell_type": "markdown",
   "metadata": {},
   "source": [
    "For $x=-1.2$,"
   ]
  },
  {
   "cell_type": "code",
   "execution_count": 46,
   "metadata": {},
   "outputs": [
    {
     "data": {
      "text/plain": [
       "4.440892098500626e-16"
      ]
     },
     "execution_count": 46,
     "metadata": {},
     "output_type": "execute_result"
    }
   ],
   "source": [
    "f(-1.2)"
   ]
  },
  {
   "cell_type": "markdown",
   "metadata": {},
   "source": [
    "So, $f(-1.2)=4.440892098500626\\times10^{-16}\\approx0$"
   ]
  },
  {
   "cell_type": "code",
   "execution_count": 47,
   "metadata": {},
   "outputs": [
    {
     "data": {
      "text/plain": [
       "-18.432"
      ]
     },
     "execution_count": 47,
     "metadata": {},
     "output_type": "execute_result"
    }
   ],
   "source": [
    "df(-1.2)"
   ]
  },
  {
   "cell_type": "markdown",
   "metadata": {},
   "source": [
    "So, $f'(-1.2)=-18.432\\neq0$\n",
    "\n",
    "Thus, $x=-1.2$ is a root of multiplicity 1."
   ]
  },
  {
   "cell_type": "markdown",
   "metadata": {},
   "source": [
    "For $x=1.2$,"
   ]
  },
  {
   "cell_type": "code",
   "execution_count": 48,
   "metadata": {},
   "outputs": [
    {
     "data": {
      "text/plain": [
       "-4.440892098500626e-16"
      ]
     },
     "execution_count": 48,
     "metadata": {},
     "output_type": "execute_result"
    }
   ],
   "source": [
    "f(1.2)"
   ]
  },
  {
   "cell_type": "markdown",
   "metadata": {},
   "source": [
    "So, $f(1.2)=-4.440892098500626\\times10^{-16}\\approx0$"
   ]
  },
  {
   "cell_type": "code",
   "execution_count": 49,
   "metadata": {
    "scrolled": true
   },
   "outputs": [
    {
     "data": {
      "text/plain": [
       "-2.6645352591003757e-15"
      ]
     },
     "execution_count": 49,
     "metadata": {},
     "output_type": "execute_result"
    }
   ],
   "source": [
    "df(1.2)"
   ]
  },
  {
   "cell_type": "markdown",
   "metadata": {},
   "source": [
    "So, $f'(1.2)=-2.6645352591003757\\times10^{-15}\\approx0$"
   ]
  },
  {
   "cell_type": "code",
   "execution_count": 50,
   "metadata": {},
   "outputs": [
    {
     "data": {
      "text/plain": [
       "-15.360000000000001"
      ]
     },
     "execution_count": 50,
     "metadata": {},
     "output_type": "execute_result"
    }
   ],
   "source": [
    "#f''(x)\n",
    "def ddf(x):\n",
    "    return 4*3*x**2 - 3*3*3.2*x + 2*0.96\n",
    "ddf(1.2)"
   ]
  },
  {
   "cell_type": "markdown",
   "metadata": {},
   "source": [
    "So, $f''(1.2)=-15.360000000000001\\neq0$"
   ]
  },
  {
   "cell_type": "markdown",
   "metadata": {},
   "source": [
    "Thus, $x=1.2$ is a root of multiplicity 2."
   ]
  },
  {
   "cell_type": "markdown",
   "metadata": {},
   "source": [
    "For $x=2$,"
   ]
  },
  {
   "cell_type": "code",
   "execution_count": 51,
   "metadata": {},
   "outputs": [
    {
     "data": {
      "text/plain": [
       "-2.220446049250313e-15"
      ]
     },
     "execution_count": 51,
     "metadata": {},
     "output_type": "execute_result"
    }
   ],
   "source": [
    "f(2)"
   ]
  },
  {
   "cell_type": "markdown",
   "metadata": {},
   "source": [
    "So, $f(2)=-2.220446049250313\\times10^{-15}\\approx0$"
   ]
  },
  {
   "cell_type": "code",
   "execution_count": 52,
   "metadata": {},
   "outputs": [
    {
     "data": {
      "text/plain": [
       "2.047999999999994"
      ]
     },
     "execution_count": 52,
     "metadata": {},
     "output_type": "execute_result"
    }
   ],
   "source": [
    "df(2)"
   ]
  },
  {
   "cell_type": "markdown",
   "metadata": {},
   "source": [
    "So, $f(2)=2.047999999999994\\neq0$"
   ]
  },
  {
   "cell_type": "markdown",
   "metadata": {},
   "source": [
    "Thus, $x=2$ is a root of multiplicity 1."
   ]
  },
  {
   "cell_type": "markdown",
   "metadata": {},
   "source": [
    "Finding multiplicity was what I was struggling the most with, because I tend to over think everything. I know there is more to this problem, but finding multiplicity was what I primarily wanted to focus on, despite how simple it really is."
   ]
  },
  {
   "cell_type": "markdown",
   "metadata": {},
   "source": [
    "## In What Ways Did I Contribute to My Group?"
   ]
  },
  {
   "cell_type": "markdown",
   "metadata": {},
   "source": [
    "This time around, I got to do a lot for my group, especially on Monday. Friday, for the most part, was pretty quiet again, besides the occasional chat or stupis questions from me cause I always overthink. But on Monday, Jiaxin was in need of help with the Aitken Method as she was having trouble understanding what exactly it was and how to use it. So I spent our entire group session going stepp by step based on my interpretation of Professor Bieri's lecture. I kept emphasizing that Aitken is just a tool for Fixed-Point Iteration when it converges very slowly. I greatly increases the rate, so that less iterations have to be taken. Afterwards, we quickly went into Bieri's code, and showed what I taught was expressed in Jupyter. I am not sure if I include it or not, but I wasn't able to attend class on Wednesday as my car broke down, so I really didn't do anything. My bad."
   ]
  },
  {
   "cell_type": "markdown",
   "metadata": {},
   "source": [
    "## What Goals Do I Have Next?"
   ]
  },
  {
   "cell_type": "markdown",
   "metadata": {},
   "source": [
    "This is something I am totally unclear in finalizing for this week. I have definetly been enjoying the root-finding algorithms, which this week has been disucssing in great detail of Fixed-Point Iteration and the tools applicable too. I know we are starting to deviate from root-finding (at least I think so) in the coming weeks, which is a shame because I know we definetly skipped over the secant method and the false-position method, which I discovered in the book and the glorious sanctuary of Wikepedia. Plus there are other methods derived from them, such as Brent's Method. I guess my goal is to spend some of my free time exploring these other topics and try comparing all the root-finding amethods and compare them. See how they differentiate and discover what kind of functions work best under the various algorithms."
   ]
  }
 ],
 "metadata": {
  "kernelspec": {
   "display_name": "Python 3",
   "language": "python",
   "name": "python3"
  },
  "language_info": {
   "codemirror_mode": {
    "name": "ipython",
    "version": 3
   },
   "file_extension": ".py",
   "mimetype": "text/x-python",
   "name": "python",
   "nbconvert_exporter": "python",
   "pygments_lexer": "ipython3",
   "version": "3.8.3"
  }
 },
 "nbformat": 4,
 "nbformat_minor": 4
}
