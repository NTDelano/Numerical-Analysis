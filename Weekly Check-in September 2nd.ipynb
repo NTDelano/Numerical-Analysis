{
 "cells": [
  {
   "cell_type": "markdown",
   "metadata": {},
   "source": [
    "## Weekly Check-In - September 2nd"
   ]
  },
  {
   "cell_type": "markdown",
   "metadata": {},
   "source": [
    "#### Question 3b - Find the general form of $f(x) = \\sqrt{1+x}$ about $a=0$"
   ]
  },
  {
   "cell_type": "markdown",
   "metadata": {},
   "source": [
    "I had issues with this problem initially because finding the patter to which the taylor polynomial followed kind of went in a weird direction as the constants got bigger and bigger. So I had to really take my time to really find the correct pattern as I went through."
   ]
  },
  {
   "cell_type": "markdown",
   "metadata": {},
   "source": [
    "So I started off by writing up the derivatives of f, such that it will be easier to form my Taylor polynomial. Also since the polynomial is about $a=0$, then we can say $(x-a)^n = x^n$.\n",
    "\n",
    "So,\n",
    "$f'(a) = \\frac{1}{2\\sqrt{1+a}}$    \n",
    "$f\" = (\\frac{1}{2})(-\\frac{1}{2})(1+a)^{-\\frac{3}{2}}$\n",
    "\n",
    "$f''' = (\\frac{1}{2})(-\\frac{1}{2})(-\\frac{3}{2})(1+a)^{-\\frac{5}{2}}$\n",
    "\n",
    "$f'''' = (\\frac{1}{2})(-\\frac{1}{2})(-\\frac{3}{2})(-\\frac{5}{2})(1+a)^{-\\frac{7}{2}}$"
   ]
  },
  {
   "cell_type": "markdown",
   "metadata": {},
   "source": [
    "Now the mistake I made here that made it very difficult was simplify the factors as it tends to look very nice. However, this made the job of finding a pattern that much more difficult as the values went from:\n",
    "$\\frac{1}{2} \\rightarrow -\\frac{1}{8} \\rightarrow \\frac{1}{16} \\rightarrow -\\frac{5}{128} \\rightarrow ...$, which doesn't show any particular pattern. So I took a step back and kept all the factors, having a polynomial looking like:"
   ]
  },
  {
   "cell_type": "markdown",
   "metadata": {},
   "source": [
    "$P(x) = 1 + \\frac{1}{2}x - \\frac{1}{8}x^2 + \\frac{1}{16}x^3 - \\frac{5}{128}x^4 + \\frac{7}{256}x^5 - \\frac{21}{1024}x^6 + ...$\n",
    "\n",
    "$P(x) = 1 + \\frac{1}{1!2^1}x - \\frac{1}{2!2^2}x^2 + \\frac{(1)(3)}{3!2^3}x^3 - \\frac{(1)(3)(5)}{4!2^4}x^4 + \\frac{(1)(3)(5)(7)}{5!2^5}x^5 - \\frac{(1)(3)(5)(7)(9)}{6!2^6}x^6 + ...$"
   ]
  },
  {
   "cell_type": "markdown",
   "metadata": {},
   "source": [
    "Now at first, there doesn't seem to be a pattern due the first terms being very different, but once we get to $x^2$, then we can see that the signs keep changing from positive to negative to positive over and over. Then in the numerator, Factors keep being multiplied in at every odd value. Then in the denominator, we can see that it is increasing where $n!2^n$ where $n \\in \\mathbb{Z}$. So now lets find a general form of this pattern:"
   ]
  },
  {
   "cell_type": "markdown",
   "metadata": {},
   "source": [
    "$1 \\rightarrow 1 \\cdot 3 \\rightarrow 1 \\cdot 3 \\cdot 5 \\rightarrow 1 \\cdot 3 \\cdot 5 \\cdot 7 \\rightarrow \\frac{(2k+1)!}{2\\cdot4 \\cdot6\\cdots2k} = \\frac{(2k+1)!}{(2\\cdot1)\\cdot(2\\cdot2)\\cdot(2\\cdot3)\\cdots(2\\cdot k)} = \\frac{(2k+1)!}{2^k\\cdot k!}$ where $k \\in \\mathbb{Z}$"
   ]
  },
  {
   "cell_type": "markdown",
   "metadata": {},
   "source": [
    "And we know that for the denominator:\n",
    "\n",
    "$n!2^n$ where $n \\in \\mathbb{Z}$"
   ]
  },
  {
   "cell_type": "markdown",
   "metadata": {},
   "source": [
    "However, we don't know if $n=k$ as they be starting at different values, and therefore increasing at different steps. So lets do an example:\n",
    "\n",
    "$\\frac{1}{n!\\cdot2^n}$\n",
    "\n",
    "Now Lets see what the numerator would be at n:\n",
    "\n",
    "For $n=3$, then $\\frac{1\\cdot3}{3!\\cdot2^3}$ \n",
    "\n",
    "For $n=4$, then $\\frac{1\\cdot3\\cdot5}{4!\\cdot2^4}$ \n",
    "\n",
    "For $n=5$, then $\\frac{1\\cdot3\\cdot5\\cdot7}{5!\\cdot2^5}$\n",
    "\n",
    "Therefore, I see the pattern as: $\\frac{1\\cdot3\\cdot5\\cdots(2n-3)}{n!\\cdot2^n}$\n",
    "\n",
    "Now that we see how the numerator should increase as the numerator does, then we need to solve for $k$ in terms of $n$:"
   ]
  },
  {
   "cell_type": "markdown",
   "metadata": {},
   "source": [
    "$1\\cdot3\\cdots(2n-3)$ \n",
    "\n",
    "$= 1\\cdot3\\cdots(2n-3+4-4)$ \n",
    "\n",
    "$= 1\\cdot3\\cdots(2n+1-4)$ \n",
    "\n",
    "$= 1\\cdot3\\cdots(2(n-2)+1)$\n",
    "\n",
    "So now we have it in the form of k. so based on the results, we can state that $k=n-2$.\n",
    "\n",
    "So then the numerator pattern, in terms of n can be rewritten as:\n",
    "\n",
    "$\\frac{(2k+1)!}{2^k\\cdot k!} = \\frac{(2(n-2)+1)!}{2^{n-2}\\cdot (n-2)!} = \\frac{(2n-3)!}{2^{n-2}\\cdot (n-2)!}$"
   ]
  },
  {
   "cell_type": "markdown",
   "metadata": {},
   "source": [
    "Now we can combine the numerator and the denominator to find the pattern at last:\n",
    "\n",
    "$\\frac{(2n-3)!}{2^{n-2}\\cdot (n-2)!}\\cdot\\frac{1}{n!\\cdot2^n} = \\frac{(2n-3)!}{2^n\\cdot n!\\cdot(n-2)!}$ "
   ]
  },
  {
   "cell_type": "markdown",
   "metadata": {},
   "source": [
    "Now to start applying this to our Taylor polynomial. Since the pattern starts at $x^2$, we will begin our pattern there. So our general form  starting at $x^2$ will be:\n",
    "\n",
    "$\\sum\\limits_{i=2}^n \\frac{(2n-3)!}{2^n\\cdot n!\\cdot(n-2)!}x^n$\n",
    "\n",
    "But there is still one thing we are forgetting: alternating signs. So since at $x^2$ it starts out as negative, then:\n",
    "\n",
    "$\\sum\\limits_{i=2}^n \\frac{(-1)^{n+1}(2n-3)!}{2^n\\cdot n!\\cdot(n-2)!}x^n$\n",
    "\n",
    "So, now that we have the general form for the rest of the polynomial, the final answer is:\n",
    "\n",
    "$\\sqrt{1+x} = P(x) = 1 + \\frac{1}{2}x + \\sum\\limits_{i=2}^n \\frac{(-1)^{n+1}(2n-3)!}{2^n\\cdot n!\\cdot(n-2)!}x^n$"
   ]
  },
  {
   "cell_type": "markdown",
   "metadata": {},
   "source": [
    "I am very proud of my work from this problem due to the fact I was stupid about instantly simplifying the constants. It has become a habit due to calculus and algebra to try and simpify the problem so it easier to read and present. But by doing that in the case of taylor polynomials, it completely ruins the process of finding a general form as the constants we crossed out were important in finding that general form. Therefore, we have to be careful about symplifying going forward, unless the problem demands it to prevent hiccups like this from occuring again.\n",
    "\n",
    "I believe the code I did for proving my problem is good and accurate, however, I had to do a lot of google searches in order to find a lot of the code for special symbols. I need to get better at writting in latex, especially contiinuing down the math field as I will have to write papers, and it appears latex is the primary software used in writing mathematical papers due to its apility to write up nice equations. Therefore, I want to try an include a problem in latex for each homework assignment, so I can get the latex language drilled in to my head as it will definetly help me in the long run.\n",
    "\n",
    "\n",
    "I feel I was a huge contribution to my group this week due to the fact I have had more experience using Jupyter Notebook and have learned about Taylor Polynomials probably on 4 to 5 seperate occasions. So for our first assignment, when we had to do some simple code in jupyter notebook, I got through the homework probably in about 15 minutes as taking machine learning drilled me through the basics of Jupyter notebook countless times. I became a good resource for it as one person onlky had use sage briefly in the past, and the other two had use jupyter in the past, but not to the extent that I had. So I taught them on how to import packages and using them for special functions, such as sin(x). Then an easy way of creating lists, applying a function to the whole list, and writing it as a for loop.\n",
    "\n",
    "Then when we got into taylor polynomials, I presented the problem above as it took me a hot sec to find the general form due to my simplifying habit. None really knew how to approach it as they couldn't see the pattern as they, like me, had simplified as well. So I talked about the process I went through to find the general form and emphasized that simplifying isn't always the answer, despite how tempting it may be."
   ]
  }
 ],
 "metadata": {
  "kernelspec": {
   "display_name": "Python 3",
   "language": "python",
   "name": "python3"
  },
  "language_info": {
   "codemirror_mode": {
    "name": "ipython",
    "version": 3
   },
   "file_extension": ".py",
   "mimetype": "text/x-python",
   "name": "python",
   "nbconvert_exporter": "python",
   "pygments_lexer": "ipython3",
   "version": "3.8.3"
  }
 },
 "nbformat": 4,
 "nbformat_minor": 4
}
