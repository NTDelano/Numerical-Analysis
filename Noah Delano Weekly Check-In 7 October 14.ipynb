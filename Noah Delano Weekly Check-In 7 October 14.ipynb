{
 "cells": [
  {
   "cell_type": "markdown",
   "metadata": {},
   "source": [
    "# Noah Delano Weekly Check-In 7 October 14"
   ]
  },
  {
   "cell_type": "markdown",
   "metadata": {},
   "source": [
    "### The Problem I Struggled With"
   ]
  },
  {
   "cell_type": "markdown",
   "metadata": {},
   "source": [
    "So when reviewing the topics we learned this week, there was mainly one concept that didn't quite make sense, specifically how the functions for solving for splines are derived. I know there is a lot of work involved, but the jumps the book made were just too big for me to accept. Therefore, I wanted to go step-by-step through the concept of spline interpolation in order to help me understand it better and not just assume the functions given should automatically be accepted"
   ]
  },
  {
   "cell_type": "markdown",
   "metadata": {},
   "source": [
    "A natural cubic spline is the reault of spline interpolation in order to get an approximate function for a set of points, or rather a piecewise function of quadratic functions, such that $s(x)$ (our spline piecewise function) is a polynomial of degree 3 or lower on each interval of points $[x_{j-1},x_j$. Also, in order to maintain continuity and prevent a disjointed spline function, then for each interval in $s(x)$, $'s(x)$, and $s''(x)$ are continuous, and $s''(x_1)=s''(x_n)=0$ in order to help the rates of $s(x)$ from increasing or decreasing rapidly.\n",
    "\n",
    "By examing $s''(x)$, as a linear function from point to point, we can manipulate it such that\n",
    "\n",
    "$$s''(x)=\\frac{M_{j-1}x_j-M_jx_{j-1}}{x_j-x_{j-1}}$$\n",
    "\n",
    "where $x_{j-1}<x<x_j$ and $s''(x_{j-1})=M_{j-1}, s''(x_j)=M_j$.\n",
    "\n",
    "Now, in order to find our spline function, $s(x)$, we will need to double integrate $s''(x)$, which will produce two constants (I'll deal with them later). So lets start off with $s'(x)$:\n",
    "\n",
    "$$s'(x)=\\int s''(x)\\cdot dx$$\n",
    "\n",
    "$$s'(x)=\\int \\left(\\frac{M_{j-1}x_j-M_jx_{j-1}}{x_j-x_{j-1}}\\right)$$\n",
    "\n",
    "Since the components of $s''(x)$ represents constants (x values are in the interval and M is the value of the concavity on the intervals at the x values), then $s''(x)$ is a constant. So,\n",
    "\n",
    "$$s'(x)=\\left(\\frac{M_{j-1}x_j-M_jx_{j-1}}{x_j-x_{j-1}}\\right)x+C_1$$\n",
    "\n",
    "where $c_1$ is an unknown constant. Then take another anti-derivative in order to find $s(x)$:\n",
    "\n",
    "$$s(x)=\\int s'(x)\\cdot dx=\\left(\\frac{M_{j-1}x_j-M_jx_{j-1}}{x_j-x_{j-1}}\\right)\\cdot\\frac{x^2}{2}+C_1x+C_2$$\n",
    "\n",
    "where $C_2$ is also an unknown constant. Now the goal is to try and find our unknown constant so that w3was can have a general form for our spline function $s(x)$. We know the boundary of our function is $x_{j-1}<x<x_j$. So if we were to plug in our boundaries at each end point, it should result in a y-value (e.g. $(x_1,y_1)$,$(x_2,y_2)$, etc.). So, in the case of our function we would like to examine the endpoints of $(x_{j-1},y_{j-1})$ and $(x_j,y_j)$. This means that $s(x_{j-1})=y_{j-1}$ and $s(x_j)=y_j$. With that in mind, lets try finding $C_1$ and $C_2$.\n",
    "\n",
    "$$s(x_{j-1})=\\left(\\frac{M_{j-1}x_j-M_jx_{j-1}}{x_j-x_{j-1}}\\right)\\cdot\\frac{(x_{j-1})^2}{2}+C_1x_{j-1}+C_2=y_{j-1}$$\n",
    "\n",
    "$$s(x_{j})=\\left(\\frac{M_{j-1}x_j-M_jx_{j-1}}{x_j-x_{j-1}}\\right)\\cdot\\frac{(x_{j})^2}{2}+C_1x_{j}+C_2=y_{j}$$"
   ]
  },
  {
   "cell_type": "markdown",
   "metadata": {},
   "source": [
    "With examples of two points from $s(x)$, we can use these points in order to find our unknown constants. So:\n",
    "\n",
    "$$\\left(\\frac{M_{j-1}x_j-M_jx_{j-1}}{x_j-x{j-1}}\\right)\\cdot\\frac{(x_{j})^2}{2}+C_1x_{j}+C_2=y_{j}$$\n",
    "$$-\\left[\\left(\\frac{M_{j-1}x_j-M_jx_{j-1}}{x_j-x_{j-1}}\\right)\\cdot\\frac{(x_{j-1})^2}{2}+C_1x_{j-1}+C_2=y_{j-1}\\right]$$\n",
    "$$=$$\n",
    "\n",
    "$$y_j-y_{j-1}=\\frac{M_{j-1}x_j-M_jx_{j-1}}{x_j-x_{j-1}}\\cdot\\left[\\frac{(x_{j})^2}{2}-\\frac{(x_{j-1})^2}{2}\\right]+(x_j-x_{j-1})C_1$$\n",
    "\n",
    "$$\\frac{2(x_j-x_{j-1})(y_j-y_{j-1})}{2(x_j-x_{j-1})}=\\frac{(M_{j-1}x_j-M_jx_{j-1})\\left[(x_{j})^2-(x_{j-1})^2\\right]}{2(x_j-x_{j-1})}+(x_j-x_{j-1})C_1$$\n",
    "\n",
    "$$\\frac{2(x_j-x_{j-1})(y_j-y_{j-1})-(M_{j-1}x_j-M_jx_{j-1})\\left[(x_{j})^2-(x_{j-1})^2\\right]}{2(x_j-x_{j-1})}=(x_j-x_{j-1})C_1$$\n",
    "\n",
    "$$\\frac{2(x_j-x_{j-1})(y_j-y_{j-1})-(M_{j-1}x_j-M_jx_{j-1})\\left[(x_{j})^2-(x_{j-1})^2\\right]}{2(x_j-x_{j-1})^2}=C_1$$\n",
    "\n",
    "$$C_1=\\frac{2(x_j-x_{j-1})(y_j-y_{j-1})-\\left[M_{j-1}(x_j)^3-M_{j-1}(x_{j-1})^2x_j-M_jx_{j-1}(x_{j})^2+M_j(x_{j-1})^3\\right]}{2(x_j-x_{j-1})^2}$$\n",
    "\n",
    "$$C_1=\\frac{2(x_j-x_{j-1})(y_j-y_{j-1})+M_{j-1}[(x_{j-1})^2x_j-(x_j)^3]+M_j[x_{j-1}(x_{j})^2-(x_{j-1})^3]}{2(x_j-x_{j-1})^2}$$\n",
    "\n",
    "Using $C_1$, we can find $C_2$:\n",
    "\n",
    "$$y_j=\\left(\\frac{M_{j-1}x_j-M_jx_{j-1}}{x_j-x_{j-1}}\\right)\\cdot\\frac{(x_{j})^2}{2}+\\left[\\frac{2(x_j-x_{j-1})(y_j-y_{j-1})+M_{j-1}[(x_{j-1})^2x_j-(x_j)^3]+M_j[x_{j-1}(x_{j})^2-(x_{j-1})^3]}{2(x_j-x_{j-1})^2}\\right]x_{j}+C_2$$\n",
    "\n",
    "$$y_j=\\left(\\frac{M_{j-1}(x_j)^3-M_jx_{j-1}(x_{j})^2}{2(x_j-x_{j-1})}\\right)+\\left[\\frac{2(x_j-x_{j-1})(y_j-y_{j-1})+M_{j-1}[(x_{j-1})^2x_j-(x_j)^3]+M_j[x_{j-1}(x_{j})^2-(x_{j-1})^3]}{2(x_j-x_{j-1})^2}\\right]x_{j}+C_2$$\n",
    "\n",
    "$$y_j=\\left[\\frac{\\left[M_{j-1}(x_j)^3-M_jx_{j-1}(x_{j})^2\\right]\\left[x_j-x_{j-1}\\right]+2x_j(x_j-x_{j-1})(y_j-y_{j-1})+M_{j-1}[(x_{j-1})^2(x_j)^2-(x_j)^4]+M_j[x_{j-1}(x_{j})^3-(x_{j-1})^3x_j]}{2(x_j-x_{j-1})^2}\\right]+C_2$$\n",
    "\n",
    "$$C_2=y_j-\\left[\\frac{\\left[M_{j-1}(x_j)^3-M_jx_{j-1}(x_{j})^2\\right]\\left[x_j-x_{j-1}\\right]+2x_j(x_j-x_{j-1})(y_j-y_{j-1})+M_{j-1}[(x_{j-1})^2(x_j)^2-(x_j)^4]+M_j[x_{j-1}(x_{j})^3-(x_{j-1})^3x_j]}{2(x_j-x_{j-1})^2}\\right]$$\n",
    "\n",
    "Now we can finally bring everything together and find $s(x)$. So,\n",
    "\n",
    "$$s(x)=\\left(\\frac{M_{j-1}x_j-M_jx_{j-1}}{x_j-x_{j-1}}\\right)\\cdot\\frac{x^2}{2}+C_1x+C_2$$\n",
    "\n",
    "$$s(x)=\\left(\\frac{M_{j-1}x_j-M_jx_{j-1}}{x_j-x_{j-1}}\\right)\\cdot\\frac{x^2}{2}+\\left[\\frac{2(x_j-x_{j-1})(y_j-y_{j-1})+M_{j-1}[(x_{j-1})^2x_j-(x_j)^3]+M_j[x_{j-1}(x_{j})^2-(x_{j-1})^3]}{2(x_j-x_{j-1})^2}\\right]x+\\frac{2y_j(x_j-x_{j-1})^2}{2(x_j-x_{j-1})^2}-\\left[\\frac{\\left[M_{j-1}(x_j)^3-M_jx_{j-1}(x_{j})^2\\right]\\left[x_j-x_{j-1}\\right]+2x_j(x_j-x_{j-1})(y_j-y_{j-1})+M_{j-1}[(x_{j-1})^2(x_j)^2-(x_j)^4]+M_j[x_{j-1}(x_{j})^3-(x_{j-1})^3x_j]}{2(x_j-x_{j-1})^2}\\right]$$\n",
    "\n",
    "$$s(x)=\\left(\\frac{(M_{j-1}x_j-M_jx_{j-1})(x_j-x_{j-1})x^2}{2(x_j-x_{j-1})^2}\\right)+\\left[\\frac{2(x_j-x_{j-1})(y_j-y_{j-1})+M_{j-1}[(x_{j-1})^2x_j-(x_j)^3]+M_j[x_{j-1}(x_{j})^2-(x_{j-1})^3]}{2(x_j-x_{j-1})^2}\\right]x+\\frac{2y_j(x_j-x_{j-1})^2}{2(x_j-x_{j-1})^2}-\\left[\\frac{\\left[M_{j-1}(x_j)^3-M_jx_{j-1}(x_{j})^2\\right]\\left[x_j-x_{j-1}\\right]+2x_j(x_j-x_{j-1})(y_j-y_{j-1})+M_{j-1}[(x_{j-1})^2(x_j)^2-(x_j)^4]+M_j[x_{j-1}(x_{j})^3-(x_{j-1})^3x_j]}{2(x_j-x_{j-1})^2}\\right]$$\n",
    "\n",
    "$$s(x)=\\frac{(M_{j-1}x_j-M_jx_{j-1})(x_j-x_{j-1})x^2+2(x_j-x_{j-1})(y_j-y_{j-1})x+M_{j-1}[(x_{j-1})^2x_j-(x_j)^3]x+M_j[x_{j-1}(x_{j})^2-(x_{j-1})^3]x+2y_j(x_j-x_{j-1})^2-\\left[M_{j-1}(x_j)^3-M_jx_{j-1}(x_{j})^2\\right]\\left[x_j-x_{j-1}\\right]-2x_j(x_j-x_{j-1})(y_j-y_{j-1})-M_{j-1}[(x_{j-1})^2(x_j)^2-(x_j)^4]-M_j[x_{j-1}(x_{j})^3-(x_{j-1})^3x_j]}{2(x_j-x_{j-1})^2}$$\n",
    "\n",
    "$$s(x)=\\frac{M_{j-1}(x_j)^2x^2-M_{j-1}x_{j-1}x_jx^2-M_jx_jx_{j-1}x^2+M_j(x_{j-1})^2x^2+2xy_j-2xy_{j-1}x+M_{j-1}(x_{j-1})^2x_jx-M_{j-1}(x_j)^3x+M_jx_{j-1}(x_{j})^2x-M_j(x_{j-1})^3x+2y_j(x_j-x_{j-1})^2-\\left[M_{j-1}(x_j)^3-M_jx_{j-1}(x_{j})^2\\right]\\left[x_j-x_{j-1}\\right]-2x_j(y_j-y_{j-1})-M_{j-1}[(x_{j-1})^2(x_j)^2-(x_j)^4]-M_j[x_{j-1}(x_{j})^3-(x_{j-1})^3x_j]}{2(x_j-x_{j-1})^2}$$\n",
    "\n",
    "Now to isolate the y terms:\n",
    "\n",
    "$$\\frac{2x_j(x_j-x_{j-1})(y_j-y_{j-1})x+2y_j(x_j-x_{j-1})^2-2x_j(x_j-x_{j-1})(y_j-y_{j-1})}{2(x_j-x_{j-1})^2}$$\n",
    "\n",
    "$$\\frac{2x(x_j)^2y_j-2x(x_j)^2y_{j-1}-2xx_{j-1}x_jy_j+2xx_{j-1}x_jy_{j-1}+2y_j(x_j)^2-4x_{j-1}x_jy_j+2y_j(x_{j-1})^2-2(x_j)^2y_j+2(x_j)^2y_{j-1}+2x_{j-1}x_jy_j-2x_{j-1}x_{j}y_{j-1}}{2(x_j-x_{j-1})^2}$$\n",
    "\n",
    "$$\\frac{y_{j-1}\\left[-2x(x_j)^2+2xx_{j-1}x_j+2(x_j)^2-2x_{j-1}x_{j}\\right]+y_j\\left[2x(x_j)^2-2xx_{j-1}x_j+2(x_j)^2-4x_{j-1}x_j+2(x_{j-1})^2+2(x_j)^2+2x_{j-1}x_j\\right]}{2(x_j-x_{j-1})^2}$$ \n",
    "\n",
    "$$\\frac{y_{j-1}\\left[-x(x_j)^2+xx_{j-1}x_j+(x_j)^2-x_{j-1}x_{j}\\right]+y_j\\left[x(x_j)^2+2(x_j)^2-xx_{j-1}x_j-x_{j-1}x_j+(x_{j-1})^2\\right]}{(x_j-x_{j-1})^2}$$ \n",
    "\n",
    "$$\\frac{y_{j-1}\\left[-x_jx(x_j-x_{j-1})+x_j(x_j-x_{j-1})\\right]+y_j\\left[x_jx(x_j-x_{j-1})-x_{j-1}(x_j-x_{j-1})\\right]}{(x_j-x_{j-1})^2}$$ \n",
    "\n",
    "$$(x_j-x_{j-1})\\cdot\\frac{y_{j-1}\\left[-x_jx+x_j\\right]+y_j\\left[x_jx+x_j\\right]}{(x_j-x_{j-1})^2}$$ "
   ]
  },
  {
   "cell_type": "markdown",
   "metadata": {},
   "source": [
    "Okay, so after going through the problem, I completely understand why the process was skipped as it is an absolute nightmare. I know I could do it, but it is just so easy to lose track of terms or make little mistakes. I will go as far as here, which does have an element of $s(x) that I was looking for (so at least that is a good thing). Hence this integral is just a bit too complicated that I just can't get through it."
   ]
  },
  {
   "cell_type": "markdown",
   "metadata": {},
   "source": [
    "### Problem I Am Proud Of"
   ]
  },
  {
   "cell_type": "markdown",
   "metadata": {},
   "source": [
    "So, in the same veign, I tried proving the additio nal condition as well for spline functions. In order to solve for it, we need to examine the $s'(x)$ function as we must have the rates be continuuos, such that $s'_j(x_j)$ on $[x_{j-1},x_j]$ matches $s'_{j+1}(x_j)$ on $[x_{j=},x_{j+1}]$. So the first step is to find $s'_j(x_j)$ and $s'_{j+1}(x_j)$. Starting with $s'_j(x_j)$:"
   ]
  },
  {
   "cell_type": "markdown",
   "metadata": {},
   "source": [
    "$$s'(x)=\\left(\\frac{M_{j-1}x_j-M_jx_{j-1}}{x_j-x_{j-1}}\\right)x+C_1$$\n",
    "\n",
    "$$s_j'(x_j)=\\left(\\frac{M_{j-1}x_j-M_jx_{j-1}}{x_j-x_{j-1}}\\right)x_j+\\frac{2(x_j-x_{j-1})(y_j-y_{j-1})+M_{j-1}[(x_{j-1})^2x_j-(x_j)^3]+M_j[x_{j-1}(x_{j})^2-(x_{j-1})^3]}{2(x_j-x_{j-1})^2}$$\n",
    "\n",
    "$$s_j'(x_j)=\\left(\\frac{M_{j-1}x_j-M_jx_{j-1}}{x_j-x_{j-1}}\\right)x_j+\\frac{2(x_j-x_{j-1})(y_j-y_{j-1})+M_{j-1}x_j[(x_{j-1})^2-(x_j)^2]+M_jx_{j-1}[(x_{j})^2-(x_{j-1})^2]}{2(x_j-x_{j-1})^2}$$\n",
    "\n",
    "$$s_j'(x_j)=\\left(\\frac{M_{j-1}x_j-M_jx_{j-1}}{x_j-x_{j-1}}\\right)x_j+\\frac{2(x_j-x_{j-1})(y_j-y_{j-1})+(M_jx_{j-1}-M_{j-1}x_j)(x_j-x_{j-1})(x_j+x_{j-1})}{2(x_j-x_{j-1})^2}$$\n",
    "\n",
    "\n",
    "$$s_j'(x_j)=\\left(\\frac{M_{j-1}x_j-M_jx_{j-1}}{x_j-x_{j-1}}\\right)x_j+\\frac{2(y_j-y_{j-1})+(M_jx_{j-1}-M_{j-1}x_j)(x_j+x_{j-1})}{2(x_j-x_{j-1})}$$\n",
    "\n",
    "$$s_j'(x_j)=\\frac{2M_{j-1}(x_j)^2-2M_jx_{j-1}x_j+M_jx_{j-1}x_j+M_j(x_{j-1})^2-M_{j-1}(x_j)^2-M_{j-1}x_{j-1}x_j}{2(x_j-x_{j-1})}+\\frac{(y_j-y_{j-1})}{(x_j-x_{j-1})}$$\n",
    "\n",
    "$$s_j'(x_j)=\\frac{M_{j-1}\\left[2(x_j)^2-(x_j)^2-x_{j-1}x_j\\right]+M_{j}\\left[x_{j-1}x_j-2x_{j-1}x_j+(x_{j-1})^2\\right]}{2(x_j-x_{j-1})}+\\frac{(y_j-y_{j-1})}{(x_j-x_{j-1})}$$\n",
    "\n",
    "$$s_j'(x_j)=\\frac{M_{j-1}\\left[(x_j)^2-x_{j-1}x_j\\right]+M_{j}\\left[(x_{j-1})^2-x_{j-1}x_j\\right]}{2(x_j-x_{j-1})}+\\frac{(y_j-y_{j-1})}{(x_j-x_{j-1})}$$\n",
    "\n",
    "$$s_j'(x_j)=\\frac{M_{j-1}x_j\\left[x_j-x_{j-1}\\right]-M_{j}x_{j-1}\\left[x_j-x_{j-1}\\right]}{2(x_j-x_{j-1})}+\\frac{(y_j-y_{j-1})}{(x_j-x_{j-1})}$$\n",
    "\n",
    "$$s_j'(x_j)=\\frac{M_{j-1}x_j-M_{j}x_{j-1}}{2}+\\frac{(y_j-y_{j-1})}{(x_j-x_{j-1})}$$\n",
    "\n",
    "Now to find $s'_{j+1}(x_j)$:\n",
    "\n",
    "$$s_{j+1}'(x_j)=\\left(\\frac{M_{j}x_{j+1}-M_{j+1}x_{j}}{x_{j+1}-x_{j}}\\right)x_j+\\frac{2(x_{j+1}-x_{j})(y_{j+1}-y_{j})+(M_{j+1}x_{j}-M_{j}x_{j+1})(x_{j+1}-x_{j})(x_{j+1}+x_{j})}{2(x_{j+1}-x_{j})^2}$$\n",
    "\n",
    "$$s_{j+1}'(x_j)=\\left(\\frac{M_{j}x_jx_{j+1}-M_{j+1}(x_{j})^2}{x_{j+1}-x_{j}}\\right)+\\frac{2(y_{j+1}-y_{j})+(M_{j+1}x_{j}-M_{j}x_{j+1})(x_{j+1}+x_{j})}{2(x_{j+1}-x_{j})}$$\n",
    "\n",
    "$$s_{j+1}'(x_j)=\\frac{2M_{j}x_jx_{j+1}-2M_{j+1}(x_{j})^2+M_{j+1}x_{j}x_{j+1}+M_{j+1}(x_{j})^2-M_{j}(x_{j+1})^2-M_{j}x_jx_{j+1}}{2(x_{j+1}-x_{j})}+\\frac{y_{j+1}-y_{j}}{x_{j+1}-x_{j}}$$\n",
    "\n",
    "$$s_{j+1}'(x_j)=\\frac{M_{j}\\left[2x_jx_{j+1}-(x_{j+1})^2-x_jx_{j+1}\\right]+M_{j+1}\\left[x_{j}x_{j+1}-2(x_{j})^2+(x_{j})^2\\right]}{2(x_{j+1}-x_{j})}+\\frac{y_{j+1}-y_{j}}{x_{j+1}-x_{j}}$$\n",
    "\n",
    "$$s_{j+1}'(x_j)=\\frac{M_{j}\\left[x_jx_{j+1}-(x_{j+1})^2\\right]+M_{j+1}\\left[x_{j}x_{j+1}-(x_{j})^2\\right]}{2(x_{j+1}-x_{j})}+\\frac{y_{j+1}-y_{j}}{x_{j+1}-x_{j}}$$\n",
    "\n",
    "$$s_{j+1}'(x_j)=\\frac{M_{j+1}x_{j}\\left[x_{j+1}-x_{j}\\right]-M_{j}x_{j+1}\\left[x_{j+1}-x_j\\right]}{2(x_{j+1}-x_{j})}+\\frac{y_{j+1}-y_{j}}{x_{j+1}-x_{j}}$$\n",
    "\n",
    "$$s_{j+1}'(x_j)=\\frac{M_{j+1}x_{j}-M_{j}x_{j+1}}{2}+\\frac{y_{j+1}-y_{j}}{x_{j+1}-x_{j}}$$\n",
    "\n",
    "Now we set both equations equal to each other:\n",
    "\n",
    "$$s_j'(x_j)=s_{j+1}'(x_j)$$\n",
    "\n",
    "$$\\frac{M_{j-1}x_j-M_{j}x_{j-1}}{2}+\\frac{(y_j-y_{j-1})}{(x_j-x_{j-1})}=\\frac{M_{j+1}x_{j}-M_{j}x_{j+1}}{2}+\\frac{y_{j+1}-y_{j}}{x_{j+1}-x_{j}}$$\n",
    "\n",
    "I know I am on the right track and believe the condition is right, just something with my mad wrong as I am super close to it, just don't have denominater factors of 3. But based on all my work, I am quite proud with what I have accomplished."
   ]
  },
  {
   "cell_type": "markdown",
   "metadata": {},
   "source": [
    "### How I Contributed to My Group"
   ]
  },
  {
   "cell_type": "markdown",
   "metadata": {},
   "source": [
    "For this week, we finally got to change groups, which was so nice as maybe my group the past few weeks weren't super compatable as it was quiet a lot. Friday was really no different as practically no one spoke as I believe we all understood it. I believe I asked the question towars what my two problems pertained to, but it wasn't really touched upon, so I spent my time on this assignment to explore it. But on Monday, I had a lot of fun with Michaela and Kimberly when discussing problems from the new chapter. Kimberly posed a question, which we spent the class time working on and discussing our confusion on it. "
   ]
  },
  {
   "cell_type": "markdown",
   "metadata": {},
   "source": [
    "### Goals For Next Week"
   ]
  },
  {
   "cell_type": "markdown",
   "metadata": {},
   "source": [
    "I really want to conduct more effective group session times as I had so much fun on Monday as I didn't know how to solve it and due to the fact I was being sociable while working, it reminded how much I love school and how much I love working there as well. I want to try finding more example or challenge problems and post them for the group so we can really take the time to explore the concept we are learning about. Maybe I will show what I worked on this week and see if they can help me finish my proof so that I can finally rest easy over my work"
   ]
  }
 ],
 "metadata": {
  "kernelspec": {
   "display_name": "Python 3",
   "language": "python",
   "name": "python3"
  },
  "language_info": {
   "codemirror_mode": {
    "name": "ipython",
    "version": 3
   },
   "file_extension": ".py",
   "mimetype": "text/x-python",
   "name": "python",
   "nbconvert_exporter": "python",
   "pygments_lexer": "ipython3",
   "version": "3.8.3"
  }
 },
 "nbformat": 4,
 "nbformat_minor": 4
}
