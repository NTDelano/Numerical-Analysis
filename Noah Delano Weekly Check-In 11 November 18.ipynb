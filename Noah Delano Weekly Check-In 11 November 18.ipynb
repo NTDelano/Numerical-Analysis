{
 "cells": [
  {
   "cell_type": "markdown",
   "metadata": {},
   "source": [
    "# Noah Delano Weekly Check-In 11 November 18"
   ]
  },
  {
   "cell_type": "markdown",
   "metadata": {},
   "source": [
    "### Problem I Am Proud Of"
   ]
  },
  {
   "cell_type": "markdown",
   "metadata": {},
   "source": [
    "For the problem I am proud of, I decided to tackle a word problem, such that I had to figure out the system of equations myself and use Gaussian Elimination to find the answer. So below I find a fun one that took me a little time to figure out the system I need to use."
   ]
  },
  {
   "cell_type": "markdown",
   "metadata": {},
   "source": [
    "Problem: Ava invests a total of $\\$ 10,000$  in three accounts, one paying  5  interest, another paying  8  interest, and the third paying  9  interest. The annual interest earned on the three investments last year was  $\\$770$ . The amount invested at  9  was twice the amount invested at  5 . How much was invested at each rate?"
   ]
  },
  {
   "cell_type": "markdown",
   "metadata": {},
   "source": [
    "First off, we know there are three seperate accounts that contributed to the total sum of money. So we can create our first equation with each account as a seperate variable:\n",
    "\n",
    "$$x_1+x_2+x_3=10000$$\n",
    "\n",
    "Since we don't know how much each contributed, we can't really include any coefficients. Next we look at the interest, where each investor has a different paying rate, which include $5$%, $8$%, and $9$%, coming to a total of $\\$770$ between the three investors the previous years. So,\n",
    "\n",
    "$$0.05x_1+0.08x_2+0.09x_3=770$$\n",
    "\n",
    "Next we know the the investor who has a $9$% interest has the twice the amount invested compared to the investor with a $5$% interest. So:\n",
    "\n",
    "$$2x_1-x_3=0$$\n",
    "\n",
    "which is true because they would cancel each other out. Know we have a system of equations we can work with. Therefore we have:\n",
    "\n",
    "$$E_1\\rightarrow x_1+x_2+x_3=10000$$\n",
    "$$E_2\\rightarrow 0.05x_1+0.08x_2+0.09x_3=770$$\n",
    "$$E_3\\rightarrow 2x_1+0x_3-x_3=0$$\n",
    "\n",
    "or rather:\n",
    "\n",
    "$$\\begin{bmatrix} 1&1&1\\\\0.05&0.08&0.09\\\\2&0&-1\\\\ \\end{bmatrix}\\begin{bmatrix} x_1\\\\x_2\\\\x_3\\\\ \\end{bmatrix}=\\begin{bmatrix} 10000\\\\770\\\\0\\\\ \\end{bmatrix}$$\n",
    "\n",
    "Lets start by eliminating $x_1$ from $E_2$ and $E_3$:\n",
    "\n",
    "$$\\begin{bmatrix} 1&1&1\\\\0.05&0.08&0.09\\\\2&0&-1\\\\ \\end{bmatrix}\\begin{bmatrix} x_1\\\\x_2\\\\x_3\\\\ \\end{bmatrix}=\\begin{bmatrix} 10000\\\\770\\\\0\\\\ \\end{bmatrix}$$\n",
    "\n",
    "$$\\begin{bmatrix} 1&1&1\\\\1&1.6&1.8\\\\1&0&-\\frac{1}{2}\\\\ \\end{bmatrix}\\begin{bmatrix} x_1\\\\x_2\\\\x_3\\\\ \\end{bmatrix}=\\begin{bmatrix} 10000\\\\15400\\\\0\\\\ \\end{bmatrix}$$\n",
    "\n",
    "So:\n",
    "\n",
    "$$E_2-E_1\\rightarrow 0.6x_2+0.8x_3=5400$$\n",
    "\n",
    "$$E_3-E_1\\rightarrow -x_2-\\frac{3}{2}x_3=-10000\\rightarrow x_2+\\frac{3}{2}x_3=10000$$\n",
    "\n",
    "In Matrix form:\n",
    "\n",
    "$$\\begin{bmatrix} 1&1&1\\\\0&0.6&0.8\\\\0&1&\\frac{3}{2}\\\\ \\end{bmatrix}\\begin{bmatrix} x_1\\\\x_2\\\\x_3\\\\ \\end{bmatrix}=\\begin{bmatrix} 10000\\\\5400\\\\10000\\\\ \\end{bmatrix}$$\n",
    "\n",
    "$$\\begin{bmatrix} 1&1&1\\\\0&\\frac{3}{5}&\\frac{4}{5}\\\\0&1&\\frac{3}{2}\\\\ \\end{bmatrix}\\begin{bmatrix} x_1\\\\x_2\\\\x_3\\\\ \\end{bmatrix}=\\begin{bmatrix} 10000\\\\5400\\\\10000\\\\ \\end{bmatrix}$$\n",
    "\n",
    "$$\\begin{bmatrix} 1&1&1\\\\0&1&\\frac{4}{3}\\\\0&1&\\frac{3}{2}\\\\ \\end{bmatrix}\\begin{bmatrix} x_1\\\\x_2\\\\x_3\\\\ \\end{bmatrix}=\\begin{bmatrix} 10000\\\\9000\\\\10000\\\\ \\end{bmatrix}$$\n",
    "\n",
    "Now to eliminate $x_2$ from $E_3$:\n",
    "\n",
    "$$E_3-E_2\\rightarrow \\frac{1}{6}x_3=1000$$\n",
    "\n",
    "In matrix form:\n",
    "\n",
    "$$\\begin{bmatrix} 1&1&1\\\\0&1&\\frac{4}{3}\\\\0&0&\\frac{1}{6}\\\\ \\end{bmatrix}\\begin{bmatrix} x_1\\\\x_2\\\\x_3\\\\ \\end{bmatrix}=\\begin{bmatrix} 10000\\\\9000\\\\1000\\\\ \\end{bmatrix}$$\n",
    "\n",
    "$$\\begin{bmatrix} 1&1&1\\\\0&1&\\frac{4}{3}\\\\0&0&1\\\\ \\end{bmatrix}\\begin{bmatrix} x_1\\\\x_2\\\\x_3\\\\ \\end{bmatrix}=\\begin{bmatrix} 10000\\\\9000\\\\6000\\\\ \\end{bmatrix}$$\n",
    "\n",
    "Now to Solve:\n",
    "\n",
    "$$x_3=6000$$\n",
    "\n",
    "Then:\n",
    "\n",
    "$$x_2+\\frac{4}{3}x_3=9000$$\n",
    "\n",
    "$$x_2+8000=9000$$\n",
    "\n",
    "$$x_2=1000$$\n",
    "\n",
    "Finally:\n",
    "\n",
    "$$x_1+x_2+x_3=10000$$\n",
    "\n",
    "$$x_1+1000+6000=10000$$\n",
    "\n",
    "$$x_1+7000=10000$$\n",
    "\n",
    "$$x_1=3000$$\n",
    "\n",
    "Therefore, investor $x_1$ invested $\\$3000$ at a $5$% interest rate, investor $x_2$ invested $\\$1000$ at a $8$% interest rate, and investor $x_3$ invested $\\$6000$ at a $9$% interest rate"
   ]
  },
  {
   "cell_type": "markdown",
   "metadata": {},
   "source": [
    "### Problem I Struggled With"
   ]
  },
  {
   "cell_type": "markdown",
   "metadata": {},
   "source": [
    "For the problem I struggled with, I wanted to show off an anomally that kind of caught me off guard as it differe from some of the context given by the book.\n",
    "\n",
    "It starts out with a simple system of equations that requires us to use Gaussian elimination. In Matrix form, the system is:\n",
    "\n",
    "$$\\begin{bmatrix} 5&3&9\\\\0-2&3&-1\\\\-1&-2&1\\\\ \\end{bmatrix}\\begin{bmatrix} x_1\\\\x_2\\\\x_3\\\\ \\end{bmatrix}=\\begin{bmatrix} 45\\\\1.751\\\\9\\\\ \\end{bmatrix}$$\n",
    "\n",
    "So I decided to incorporate professor Bieri's algorith for Gauss in order to solve this system:"
   ]
  },
  {
   "cell_type": "code",
   "execution_count": 7,
   "metadata": {},
   "outputs": [],
   "source": [
    "#My imports\n",
    "import numpy as np\n",
    "import matplotlib.pyplot as plt\n",
    "import pandas as pd\n",
    "pd.set_option(\"display.max_rows\", None, \"display.max_columns\", None)"
   ]
  },
  {
   "cell_type": "code",
   "execution_count": 8,
   "metadata": {},
   "outputs": [],
   "source": [
    "#Basically copied this from the notes \n",
    "def gaussian_elim(A,b,show_work=False):\n",
    "    \n",
    "    # Get matrix sizes\n",
    "    n,m = A.shape\n",
    "    l = len(b)\n",
    "\n",
    "    # Check matrix shapes\n",
    "    if n != m:\n",
    "        print('A matrix is not square')\n",
    "        return 0\n",
    "    if m != l:\n",
    "        print('Rows in b do not match columns in A')\n",
    "        return 0\n",
    "    \n",
    "    # Check for unique solution\n",
    "    if np.linalg.det(A) == 0:\n",
    "        print('Determinate of A is zero --> singular matrix')\n",
    "        return 0\n",
    "    \n",
    "    if show_work == True:\n",
    "        print('A matrix')\n",
    "        print(A)\n",
    "        print('------------------------')\n",
    "        \n",
    "    piv = np.arange(0,n) # pivot rows start in order\n",
    "    for i in range (n-1):\n",
    "\n",
    "        # PIVOTING\n",
    "        index = np.argmax(np.abs(A[i:n,i])) # max for the subset of rows A[i:n,i]\n",
    "        index = index + (i) # max for the full set of n rows\n",
    "\n",
    "        if index != i:\n",
    "            # then we need to pivot so the max element is in the top row\n",
    "            temp_A = A[i,i:n].copy()\n",
    "            A[i,i:n]=A[index,i:n]\n",
    "            A[index,i:n]=temp_A\n",
    "\n",
    "            temp_b = b[i].copy()\n",
    "            b[i] = b[index]\n",
    "            b[index] = temp_b\n",
    "\n",
    "            temp_piv = piv[i].copy()\n",
    "            piv[i] = piv[index]\n",
    "            piv[index] = temp_piv\n",
    "            \n",
    "        if show_work == True:\n",
    "            print('Pivot number', i+1)\n",
    "            print(A)\n",
    "            print('------------------------')\n",
    "\n",
    "        # ELIMINATION\n",
    "        A[i+1:n,i] = 1/A[i,i]*A[i+1:n,i] # multipliers\n",
    "        for j in range(i+1,n):\n",
    "            A[j,i+1:n] = A[j,i+1:n] - A[j,i]*A[i,i+1:n] # row operations on A\n",
    "        b[i+1:n] = b[i+1:n] - A[i+1:n,i]*b[i] # row operations on b\n",
    "\n",
    "        # REPLACE ZEROS - just so the matrix looks nice\n",
    "        A[i+1:n,i] = np.zeros_like(A[i+1:n,i])\n",
    "        if show_work == True:\n",
    "            print('Row Operations number', i+1)\n",
    "            print(A)\n",
    "            print('------------------------')\n",
    "\n",
    "    # SOLVE\n",
    "    x = np.zeros_like(b)\n",
    "    x[n-1]=b[n-1]/A[n-1,n-1]\n",
    "    for i in reversed(range(0,n-1)):\n",
    "        x[i] = (b[i] - np.matmul(A[i,i+1:n],x[i+1:n]))/A[i,i]\n",
    "\n",
    "\n",
    "    ans = np.zeros_like(b)\n",
    "    for i in piv:\n",
    "        ans[i] = x[i]\n",
    "        \n",
    "    \n",
    "    # REPORT RESULTS\n",
    "    print('Final Results:')\n",
    "    for i,xval in enumerate(ans):\n",
    "        print('X{0} = {1:{digits}f}'.format(i,xval,digits=1))\n",
    "        \n",
    "    \n",
    "    return ans"
   ]
  },
  {
   "cell_type": "code",
   "execution_count": 9,
   "metadata": {},
   "outputs": [
    {
     "name": "stdout",
     "output_type": "stream",
     "text": [
      "A matrix\n",
      "[[ 5.  3.  9.]\n",
      " [-2.  3. -1.]\n",
      " [-1. -2.  1.]]\n",
      "------------------------\n",
      "Pivot number 1\n",
      "[[ 5.  3.  9.]\n",
      " [-2.  3. -1.]\n",
      " [-1. -2.  1.]]\n",
      "------------------------\n",
      "Row Operations number 1\n",
      "[[ 5.   3.   9. ]\n",
      " [ 0.   4.2  2.6]\n",
      " [ 0.  -1.4  2.8]]\n",
      "------------------------\n",
      "Pivot number 2\n",
      "[[ 5.   3.   9. ]\n",
      " [ 0.   4.2  2.6]\n",
      " [ 0.  -1.4  2.8]]\n",
      "------------------------\n",
      "Row Operations number 2\n",
      "[[5.         3.         9.        ]\n",
      " [0.         4.2        2.6       ]\n",
      " [0.         0.         3.66666667]]\n",
      "------------------------\n",
      "Final Results:\n",
      "X0 = -3.399623\n",
      "X1 = 0.552130\n",
      "X2 = 6.704636\n"
     ]
    }
   ],
   "source": [
    "#Here are my matrices for the context of the problem, where it is our job to find the x values\n",
    "A = np.array([(5,3,9),(-2,3,-1),(-1,-2,1)], dtype=float)\n",
    "b = np.array([45,1.751,9], dtype=float)\n",
    "\n",
    "x = gaussian_elim(A,b,True)"
   ]
  },
  {
   "cell_type": "markdown",
   "metadata": {},
   "source": [
    "Now that makees sense for the most part. Then I decided to see what the answer is based on using pythons inverse function:"
   ]
  },
  {
   "cell_type": "code",
   "execution_count": 10,
   "metadata": {},
   "outputs": [
    {
     "name": "stdout",
     "output_type": "stream",
     "text": [
      "[-3.39962338  0.55212987  6.70463636]\n"
     ]
    }
   ],
   "source": [
    "AINV = np.linalg.inv(A)\n",
    "x1 = np.matmul(AINV, b)\n",
    "print(x1)"
   ]
  },
  {
   "cell_type": "markdown",
   "metadata": {},
   "source": [
    "It may not be noticeable, but there is definetly some rounding error when it comes to the true answer solved through matrix inverse. Now this isn't what concerns me. I decided to try and write another defintion using gaussian elimination, but without pivoting. This is what happens:"
   ]
  },
  {
   "cell_type": "code",
   "execution_count": 11,
   "metadata": {},
   "outputs": [],
   "source": [
    "def gauss_without_pivots(A, b):\n",
    "    \n",
    "    n = A.shape[0]\n",
    "\n",
    "    #forward substitution, such that equations match for elimination\n",
    "    for row in range(0, n-1):\n",
    "        for i in range(row+1, n):\n",
    "            factor = A[i,row] / A[row,row]#Match leading coefficient with first equation to get rid of variable\n",
    "            for j in range(row, n):\n",
    "                A[i,j] = A[i,j] - factor * A[row,j] #Apply factor to the whole equation\n",
    "\n",
    "            b[i] = b[i] - factor * b[row]\n",
    "        print('A = \\n%s and b = %s' % (A,b))\n",
    "     \n",
    "    #Elimination\n",
    "    x = np.zeros((n,1))\n",
    "    x[n-1] = b[n-1] / A[n-1, n-1]\n",
    "    for row in range(n-2, -1, -1):\n",
    "        sums = b[row]\n",
    "        for j in range(row+1, n):\n",
    "            sums = sums - A[row,j] * x[j]\n",
    "        x[row] = sums / A[row,row]\n",
    "        \n",
    "    return x"
   ]
  },
  {
   "cell_type": "code",
   "execution_count": 12,
   "metadata": {},
   "outputs": [
    {
     "name": "stdout",
     "output_type": "stream",
     "text": [
      "A = \n",
      "[[5.         3.         9.        ]\n",
      " [0.         4.2        2.6       ]\n",
      " [0.         0.         3.66666667]] and b = [45.         19.751      24.58366667]\n",
      "A = \n",
      "[[5.         3.         9.        ]\n",
      " [0.         4.2        2.6       ]\n",
      " [0.         0.         3.66666667]] and b = [45.         19.751      24.58366667]\n",
      "Gauss result is x = \n",
      " [[-3.39962338]\n",
      " [ 0.55212987]\n",
      " [ 6.70463636]]\n"
     ]
    }
   ],
   "source": [
    "x = gauss_without_pivots(A,b)\n",
    "print('Gauss result is x = \\n %s' % x)"
   ]
  },
  {
   "cell_type": "markdown",
   "metadata": {},
   "source": [
    "In this case, it got the answer exactly correct, and yet it used no pivoting. So my confusion is mostly in the purpose of pivots i guess. I though pivoting helped in preventing any sort of rounding error, but yet in this case, pivots created and error value. Don't know where to go from here."
   ]
  },
  {
   "cell_type": "markdown",
   "metadata": {},
   "source": [
    "### How I Contributed To My Group"
   ]
  },
  {
   "cell_type": "markdown",
   "metadata": {},
   "source": [
    "Going to be totally honest, but I don't think I contributed too much with my group work this week. The content we have been going over has come very easy to me as it is basically a throwback to linear algebra, which I am sure a lot of people remeber bits and pieces of. And it wasn't just me who was quiet. My whole group was pretty quiet as we really had little to no questions that realy challenged us to engage in a tough discussion, which i think is a shame. However, on Monday Avi talked with us for a bit about some programs he wrote and posted involving matrices. He went through the deifferent features of work, which he said he got through pretty quick, but only took a long time bacause he added all the color and design elements, which I thought was pretty funny. Othere than that, this week was a bit dull for our group."
   ]
  },
  {
   "cell_type": "markdown",
   "metadata": {},
   "source": [
    "### Goals For Next Week"
   ]
  },
  {
   "cell_type": "markdown",
   "metadata": {},
   "source": [
    "From the previous section, I said group discussions wer a bit dull, and seems like that has been happening, especially for me lately. Ever since changing groups, it just seems like I don't have the motivation to really engage in some conversations about the topics we learned. Really all I did was tended to talk about unrelated things, which is counter-productive. I was doing so good a while back, so I really need to get back to how I was. I need to be fully prepared, and make sure to list any questions I have. I have to try and figure out ways of using group time much more productively. Hence, increasing productivity in group time is my goal for next week."
   ]
  }
 ],
 "metadata": {
  "kernelspec": {
   "display_name": "Python 3",
   "language": "python",
   "name": "python3"
  },
  "language_info": {
   "codemirror_mode": {
    "name": "ipython",
    "version": 3
   },
   "file_extension": ".py",
   "mimetype": "text/x-python",
   "name": "python",
   "nbconvert_exporter": "python",
   "pygments_lexer": "ipython3",
   "version": "3.8.3"
  }
 },
 "nbformat": 4,
 "nbformat_minor": 4
}
