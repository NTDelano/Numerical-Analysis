{
 "cells": [
  {
   "cell_type": "markdown",
   "metadata": {},
   "source": [
    "# Noah Delano's Weekly Check-In: October 28th"
   ]
  },
  {
   "cell_type": "markdown",
   "metadata": {},
   "source": [
    "### Problem I Am Proud Of:"
   ]
  },
  {
   "cell_type": "markdown",
   "metadata": {},
   "source": [
    "$4)$ Let $h>0$, $x_j=x_0+jh$ for $j=0,1,2,\\ldots,n$, and let $P_n(x)$ be the degree $n$ polynomial interpolating $f(x)$ at $x_0,\\ldots,x_n$. Use this polynomial to estimate $f'(x_0)$. Produce the actual formulas involving $f(x_0),\\ldots,f(x_n)$ for $n=1,2,3,4$. Also produce the error formulas."
   ]
  },
  {
   "cell_type": "markdown",
   "metadata": {},
   "source": [
    "To estimate $f'(x_0)$, we need to get a few polynomial approximation through the process of interpolation. In the context of this problem, it would like us to get a polynomial approximation of degree 1 through 4, along with their respective error formulas. Therefore, lets start simple with degree 1, or $P'_1(x)$:\n",
    "\n",
    "$$P_1(x)=L_0(x)f(x_0)+L_1(x)f(x_1)$$\n",
    "\n",
    "$$P'_1(x)=L_0'(x)f(x_0)+L_1'(x)f(x_1)$$\n",
    "\n",
    "So,\n",
    "\n",
    "$$P_1(x)=\\left[\\frac{x-x_1}{x_0-x_1}\\right]f(x_0)+\\left[\\frac{x-x_0}{x_1-x_0}\\right]f(x_1)$$\n",
    "\n",
    "$$P'_1(x)=\\left[\\frac{1}{x_0-x_1}\\right]f(x_0)+\\left[\\frac{1}{x_1-x_0}\\right]f(x_1)$$\n",
    "\n",
    "We know that $x_j=x_0+jh$, meaning each iteration within $x_0,x_1,\\ldots,x_j$ has a distance of h between each iteration. Therefore:\n",
    "\n",
    "$$P'_1(x)=\\left[\\frac{1}{-h}\\right]f(x_0)+\\left[\\frac{1}{h}\\right]f(x_1)$$\n",
    "\n",
    "Now that we have a basic function for $P'_1(x)$, lets insert our $x_0$ as we are trying to estimate $f'(x_0)$:\n",
    "\n",
    "$$P'_1(x)=\\left[\\frac{1}{h}\\right]f(x_1)-\\left[\\frac{1}{h}\\right]f(x_0)$$\n",
    "\n",
    "So now that we have our $P_1'(x)$, we have an approx. for $f'(x_0)$. So:\n",
    "\n",
    "$$f'(x_0)\\approx P'_1(x_0)=D_hf(x_0)$$\n",
    "\n",
    "$$f'(x_0)\\approx\\frac{1}{h}\\left[f(x_1)-f(x_0)\\right]$$"
   ]
  },
  {
   "cell_type": "markdown",
   "metadata": {},
   "source": [
    "### Problem I Struggled With:"
   ]
  }
 ],
 "metadata": {
  "kernelspec": {
   "display_name": "Python 3",
   "language": "python",
   "name": "python3"
  },
  "language_info": {
   "codemirror_mode": {
    "name": "ipython",
    "version": 3
   },
   "file_extension": ".py",
   "mimetype": "text/x-python",
   "name": "python",
   "nbconvert_exporter": "python",
   "pygments_lexer": "ipython3",
   "version": "3.8.3"
  }
 },
 "nbformat": 4,
 "nbformat_minor": 4
}
